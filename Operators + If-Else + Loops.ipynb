{
 "cells": [
  {
   "cell_type": "markdown",
   "id": "09f3c5f8",
   "metadata": {},
   "source": [
    "# Operators in Python\n",
    "\n",
    "### - Arithmetic Operators\n",
    "### - Relational Operators\n",
    "### - Logical Operators\n",
    "### - Bitwise Operators\n",
    "### - Assignment Operators\n",
    "### - Membership Operators"
   ]
  },
  {
   "cell_type": "markdown",
   "id": "1861af4e",
   "metadata": {},
   "source": [
    "## 1) Arithmetic operators"
   ]
  },
  {
   "cell_type": "code",
   "execution_count": 2,
   "id": "cd4b0f9c",
   "metadata": {},
   "outputs": [
    {
     "name": "stdout",
     "output_type": "stream",
     "text": [
      "11\n",
      "-1\n",
      "30\n",
      "2.5\n",
      "2\n",
      "1\n",
      "25\n"
     ]
    }
   ],
   "source": [
    "# Addition\n",
    "print(5 + 6)\n",
    "\n",
    "# Subtraction\n",
    "print(5 - 6)\n",
    "\n",
    "# Multiplication\n",
    "print(5 * 6)\n",
    "\n",
    "# Division\n",
    "print(5 / 2)\n",
    "\n",
    "# Integer Division\n",
    "print(5 // 2)\n",
    "\n",
    "# Modules operator\n",
    "print(5 % 2)\n",
    "\n",
    "# Power of operator\n",
    "print(5 ** 2)"
   ]
  },
  {
   "cell_type": "markdown",
   "id": "8f93d7b6",
   "metadata": {},
   "source": [
    "## 2) Relational operator"
   ]
  },
  {
   "cell_type": "code",
   "execution_count": 3,
   "id": "fdf827d7",
   "metadata": {},
   "outputs": [
    {
     "name": "stdout",
     "output_type": "stream",
     "text": [
      "False\n",
      "True\n",
      "True\n",
      "True\n",
      "True\n",
      "False\n"
     ]
    }
   ],
   "source": [
    "# Greater than operator\n",
    "print(4 > 5)\n",
    "\n",
    "# Less than operator\n",
    "print(4 < 5)\n",
    "\n",
    "# Greater than equal to operator\n",
    "print(4 >= 4)\n",
    "\n",
    "# Less than equal to operator\n",
    "print(4 <= 4)\n",
    "\n",
    "# Double equal to operator\n",
    "print(4 == 4)\n",
    "\n",
    "# Not equal to\n",
    "print(4 != 4)"
   ]
  },
  {
   "cell_type": "markdown",
   "id": "98ee75ee",
   "metadata": {},
   "source": [
    "## 3) Logical Operator"
   ]
  },
  {
   "cell_type": "code",
   "execution_count": 4,
   "id": "fda40233",
   "metadata": {},
   "outputs": [
    {
     "name": "stdout",
     "output_type": "stream",
     "text": [
      "0\n",
      "1\n",
      "False\n"
     ]
    }
   ],
   "source": [
    "# AND operator\n",
    "print(1 and 0)\n",
    "\n",
    "# OR operator\n",
    "print(1 or 0)\n",
    "\n",
    "# NOT operator\n",
    "print(not 1)"
   ]
  },
  {
   "cell_type": "markdown",
   "id": "954372b2",
   "metadata": {},
   "source": [
    "## 4) Bitwise Operator"
   ]
  },
  {
   "cell_type": "code",
   "execution_count": 5,
   "id": "74deebbb",
   "metadata": {},
   "outputs": [
    {
     "name": "stdout",
     "output_type": "stream",
     "text": [
      "2\n",
      "3\n",
      "1\n",
      "-4\n",
      "1\n",
      "20\n"
     ]
    }
   ],
   "source": [
    "# bitwise and\n",
    "print(2 & 3) # 10 & 11 ==> 10 means 2\n",
    "\n",
    "# bitwise or\n",
    "print(2 | 3) # 10 | 11 ==> 11 means 3\n",
    "\n",
    "# bitwise xor\n",
    "print(2 ^ 3) # 10 ^ 11 ==> 01 means 1\n",
    "\n",
    "# bitwise not\n",
    "print(~3) # 11 ==> 00 means -4\n",
    "\n",
    "# Right shift operator\n",
    "print(4 >> 2) # 100 >> 2 ==> 1 means 1\n",
    "\n",
    "# Left shift operator\n",
    "print(5 << 2) # 101 << 2 ==> 10100 means 20"
   ]
  },
  {
   "cell_type": "markdown",
   "id": "d7b00662",
   "metadata": {},
   "source": [
    "## 5) Assignment operators"
   ]
  },
  {
   "cell_type": "code",
   "execution_count": 6,
   "id": "123f2e6c",
   "metadata": {},
   "outputs": [
    {
     "name": "stdout",
     "output_type": "stream",
     "text": [
      "0\n"
     ]
    }
   ],
   "source": [
    "# Equal to operator\n",
    "# a = 2\n",
    "\n",
    "a = 2\n",
    "\n",
    "# a = a % 2\n",
    "a %= 2\n",
    "\n",
    "print(a)\n",
    "\n",
    "# a++ ++a does not support Python"
   ]
  },
  {
   "cell_type": "markdown",
   "id": "80ca2e96",
   "metadata": {},
   "source": [
    "## 6) Membership operator"
   ]
  },
  {
   "cell_type": "code",
   "execution_count": 7,
   "id": "704736f0",
   "metadata": {},
   "outputs": [
    {
     "name": "stdout",
     "output_type": "stream",
     "text": [
      "False\n",
      "True\n",
      "True\n",
      "False\n",
      "True\n"
     ]
    }
   ],
   "source": [
    "# in/not in (Case - sensitive)\n",
    "\n",
    "print('D' in 'delhi')\n",
    "print('D' in 'Delhi')\n",
    "\n",
    "print('D' not in 'delhi')\n",
    "print('D' not in 'Delhi')\n",
    "\n",
    "print(1 in [1,2,3,4,5])"
   ]
  },
  {
   "cell_type": "markdown",
   "id": "d8f1e844",
   "metadata": {},
   "source": [
    "# Program\n",
    "## Find the sum of a 3 digit number entered by the user"
   ]
  },
  {
   "cell_type": "code",
   "execution_count": 8,
   "id": "9f18f968",
   "metadata": {},
   "outputs": [
    {
     "name": "stdout",
     "output_type": "stream",
     "text": [
      "Enter a 3 digit number = 345\n",
      "a : 5\n",
      "b : 4\n",
      "c : 3\n",
      "a+b+c : 12\n"
     ]
    }
   ],
   "source": [
    "number = int(input('Enter a 3 digit number = '))\n",
    "\n",
    "a = number % 10\n",
    "\n",
    "number //= 10\n",
    "\n",
    "b = number % 10\n",
    "\n",
    "number //= 10\n",
    "\n",
    "c = number\n",
    "\n",
    "print('a :',a)\n",
    "print('b :',b)\n",
    "print('c :',c)\n",
    "\n",
    "print('a+b+c :',a + b+ c)"
   ]
  },
  {
   "cell_type": "markdown",
   "id": "2abf5db3",
   "metadata": {},
   "source": [
    "# ********************************************************************************************"
   ]
  },
  {
   "cell_type": "markdown",
   "id": "1f911e07",
   "metadata": {},
   "source": [
    "# If-else in Python"
   ]
  },
  {
   "cell_type": "markdown",
   "id": "d1450e7f",
   "metadata": {},
   "source": [
    "## login program and indentation"
   ]
  },
  {
   "cell_type": "code",
   "execution_count": 23,
   "id": "6bda00b7",
   "metadata": {},
   "outputs": [
    {
     "name": "stdout",
     "output_type": "stream",
     "text": [
      "Enter email : 1234@gmail.com\n",
      "Enter password : 7867\n",
      "Incorrect password\n",
      "Enter password again : 1234\n",
      "Welcome, finally!\n"
     ]
    }
   ],
   "source": [
    "# email -> nitish.campusx@gmail.com\n",
    "# password -> 1234\n",
    "\n",
    "email = input('Enter email : ')\n",
    "password = input('Enter password : ')\n",
    "\n",
    "if email == '1234@gmail.com' and password == '1234':\n",
    "    print('Welcome')\n",
    "elif email == '1234@gmail.com' and password != '1234':\n",
    "    print('Incorrect password')\n",
    "    password = input('Enter password again : ')\n",
    "    if password == '1234':\n",
    "        print('Welcome, finally!')\n",
    "    else:\n",
    "        print('try again after sometime')\n",
    "else:\n",
    "    print('Invalid email')"
   ]
  },
  {
   "cell_type": "markdown",
   "id": "d02dea73",
   "metadata": {},
   "source": [
    "## Find the Min of 3 numbers"
   ]
  },
  {
   "cell_type": "code",
   "execution_count": 1,
   "id": "93d047ef",
   "metadata": {},
   "outputs": [
    {
     "name": "stdout",
     "output_type": "stream",
     "text": [
      "first number = 4\n",
      "second number = 5\n",
      "third number = 3\n",
      "smallest is : 3\n"
     ]
    }
   ],
   "source": [
    "a = int(input('first number = '))\n",
    "b = int(input('second number = '))\n",
    "c = int(input('third number = '))\n",
    "\n",
    "if a < b and a < c :\n",
    "    print('smallest is',a)\n",
    "elif b < c :\n",
    "    print('smallest is', b)\n",
    "else :\n",
    "    print('smallest is :', c)"
   ]
  },
  {
   "cell_type": "markdown",
   "id": "86e722e3",
   "metadata": {},
   "source": [
    "## MENU DRIVEN CALCULATOR"
   ]
  },
  {
   "cell_type": "code",
   "execution_count": 2,
   "id": "7dce5b69",
   "metadata": {},
   "outputs": [
    {
     "name": "stdout",
     "output_type": "stream",
     "text": [
      "Enter 1st number = 12\n",
      "Enter 2nd number = 3\n",
      "Enter the opeartion = *\n",
      "value : 36\n"
     ]
    }
   ],
   "source": [
    "fnum = int(input('Enter 1st number = '))\n",
    "snum = int(input('Enter 2nd number = '))\n",
    "\n",
    "op = input('Enter the opeartion = ')\n",
    "\n",
    "if op == '+' :\n",
    "    print('value :',fnum + snum)\n",
    "elif op == '-' :\n",
    "    print('value :',fnum - snum)\n",
    "elif op == '*' :\n",
    "    print('value :',fnum * snum)\n",
    "elif op == '/' :\n",
    "    print('value :',fnum / snum)"
   ]
  },
  {
   "cell_type": "markdown",
   "id": "5b2acba6",
   "metadata": {},
   "source": [
    "## MENU DRIVEN PROGRAM"
   ]
  },
  {
   "cell_type": "code",
   "execution_count": 4,
   "id": "c565cb7d",
   "metadata": {
    "scrolled": true
   },
   "outputs": [
    {
     "name": "stdout",
     "output_type": "stream",
     "text": [
      "\n",
      "Hi! how can I help you.\n",
      "1. Enter 1 for pin change\n",
      "2. Enter 2 for balance check\n",
      "3. Enter 3 for withdrawl\n",
      "4. Enter 4 for exit\n",
      "4\n",
      "Exit\n"
     ]
    }
   ],
   "source": [
    "menu = input(\"\"\"\n",
    "Hi! how can I help you.\n",
    "1. Enter 1 for pin change\n",
    "2. Enter 2 for balance check\n",
    "3. Enter 3 for withdrawl\n",
    "4. Enter 4 for exit\n",
    "\"\"\")\n",
    "\n",
    "if menu == '1':\n",
    "  print('Pin change')\n",
    "elif menu == '2':\n",
    "  print('Balance')\n",
    "elif menu == '3' :\n",
    "    print('Withdraw')\n",
    "else:\n",
    "  print('Exit')"
   ]
  },
  {
   "cell_type": "markdown",
   "id": "34da4ff6",
   "metadata": {},
   "source": [
    "# ********************************************************************************************"
   ]
  },
  {
   "cell_type": "markdown",
   "id": "40f53b88",
   "metadata": {},
   "source": [
    "# Modules in Python\n",
    "\n",
    "### - math\n",
    "### - keywords\n",
    "### - random\n",
    "### - datetime"
   ]
  },
  {
   "cell_type": "markdown",
   "id": "dce3948f",
   "metadata": {},
   "source": [
    "## 1) math"
   ]
  },
  {
   "cell_type": "code",
   "execution_count": 5,
   "id": "d907581a",
   "metadata": {},
   "outputs": [
    {
     "data": {
      "text/plain": [
       "14.0"
      ]
     },
     "execution_count": 5,
     "metadata": {},
     "output_type": "execute_result"
    }
   ],
   "source": [
    "import math\n",
    "\n",
    "math.factorial(5)\n",
    "math.floor(6.8)\n",
    "math.sqrt(196)"
   ]
  },
  {
   "cell_type": "markdown",
   "id": "946939d4",
   "metadata": {},
   "source": [
    "## 2) keywords"
   ]
  },
  {
   "cell_type": "code",
   "execution_count": 7,
   "id": "c5a3277b",
   "metadata": {},
   "outputs": [
    {
     "name": "stdout",
     "output_type": "stream",
     "text": [
      "['False', 'None', 'True', 'and', 'as', 'assert', 'async', 'await', 'break', 'class', 'continue', 'def', 'del', 'elif', 'else', 'except', 'finally', 'for', 'from', 'global', 'if', 'import', 'in', 'is', 'lambda', 'nonlocal', 'not', 'or', 'pass', 'raise', 'return', 'try', 'while', 'with', 'yield']\n"
     ]
    }
   ],
   "source": [
    "import keyword\n",
    "\n",
    "print(keyword.kwlist)"
   ]
  },
  {
   "cell_type": "markdown",
   "id": "288441b9",
   "metadata": {},
   "source": [
    "## 3) random"
   ]
  },
  {
   "cell_type": "code",
   "execution_count": 8,
   "id": "16c0096b",
   "metadata": {},
   "outputs": [
    {
     "name": "stdout",
     "output_type": "stream",
     "text": [
      "27\n"
     ]
    }
   ],
   "source": [
    "import random\n",
    "\n",
    "print(random.randint(1,100))"
   ]
  },
  {
   "cell_type": "markdown",
   "id": "214784a7",
   "metadata": {},
   "source": [
    "## 4) datetime"
   ]
  },
  {
   "cell_type": "code",
   "execution_count": 9,
   "id": "af7a3c5b",
   "metadata": {},
   "outputs": [
    {
     "name": "stdout",
     "output_type": "stream",
     "text": [
      "<built-in method now of type object at 0x00007FFDB7CD4FB0>\n"
     ]
    }
   ],
   "source": [
    "import datetime\n",
    "\n",
    "print(datetime.datetime.now)"
   ]
  },
  {
   "cell_type": "code",
   "execution_count": 10,
   "id": "826da002",
   "metadata": {},
   "outputs": [
    {
     "name": "stdout",
     "output_type": "stream",
     "text": [
      "\n",
      "Please wait a moment while I gather a list of all available modules...\n",
      "\n"
     ]
    },
    {
     "name": "stderr",
     "output_type": "stream",
     "text": [
      "WARNING: AstropyDeprecationWarning: The private astropy._erfa module has been made into its own package, pyerfa, which is a dependency of astropy and can be imported directly using \"import erfa\" [astropy._erfa]\n",
      "C:\\Users\\yashg\\anaconda3\\lib\\site-packages\\caffe2\\__init__.py:5: UserWarning: Caffe2 support is not fully enabled in this PyTorch build. Please enable Caffe2 by building PyTorch from source with `BUILD_CAFFE2=1` flag.\n",
      "  warnings.warn(\"Caffe2 support is not fully enabled in this PyTorch build. \"\n",
      "C:\\Users\\yashg\\anaconda3\\lib\\site-packages\\caffe2\\proto\\__init__.py:17: UserWarning: Caffe2 support is not enabled in this PyTorch build. Please enable Caffe2 by building PyTorch from source with `BUILD_CAFFE2=1` flag.\n",
      "  warnings.warn('Caffe2 support is not enabled in this PyTorch build. '\n",
      "C:\\Users\\yashg\\anaconda3\\lib\\site-packages\\caffe2\\proto\\__init__.py:17: UserWarning: Caffe2 support is not enabled in this PyTorch build. Please enable Caffe2 by building PyTorch from source with `BUILD_CAFFE2=1` flag.\n",
      "  warnings.warn('Caffe2 support is not enabled in this PyTorch build. '\n",
      "C:\\Users\\yashg\\anaconda3\\lib\\site-packages\\caffe2\\python\\__init__.py:9: UserWarning: Caffe2 support is not enabled in this PyTorch build. Please enable Caffe2 by building PyTorch from source with `BUILD_CAFFE2=1` flag.\n",
      "  warnings.warn('Caffe2 support is not enabled in this PyTorch build. '\n",
      "C:\\Users\\yashg\\anaconda3\\lib\\site-packages\\paramiko\\transport.py:219: CryptographyDeprecationWarning: Blowfish has been deprecated\n",
      "  \"class\": algorithms.Blowfish,\n",
      "C:\\Users\\yashg\\anaconda3\\lib\\site-packages\\llvmlite\\llvmpy\\__init__.py:3: UserWarning: The module `llvmlite.llvmpy` is deprecated and will be removed in the future.\n",
      "  warnings.warn(\n",
      "C:\\Users\\yashg\\anaconda3\\lib\\site-packages\\nltk\\twitter\\__init__.py:20: UserWarning: The twython library has not been installed. Some functionality from the twitter package will not be available.\n",
      "  warnings.warn(\n",
      "C:\\Users\\yashg\\anaconda3\\lib\\pkgutil.py:92: UserWarning: The numpy.array_api submodule is still experimental. See NEP 47.\n",
      "  __import__(info.name)\n",
      "C:\\Users\\yashg\\anaconda3\\lib\\site-packages\\_distutils_hack\\__init__.py:33: UserWarning: Setuptools is replacing distutils.\n",
      "  warnings.warn(\"Setuptools is replacing distutils.\")\n",
      "C:\\Users\\yashg\\anaconda3\\lib\\pkgutil.py:92: UserWarning:\n",
      "\n",
      "viewer requires Qt\n",
      "\n",
      "No QCoreApplication instance found. Application patches not applied. You have to call load_stylesheet function after instantiation of QApplication to take effect. \n",
      "NOTE: Redirects are currently not supported in Windows or MacOs.\n",
      "C:\\Users\\yashg\\anaconda3\\lib\\pkgutil.py:107: VisibleDeprecationWarning:\n",
      "\n",
      "zmq.eventloop.minitornado is deprecated in pyzmq 14.0 and will be removed.\n",
      "    Install tornado itself to use zmq with the tornado IOLoop.\n",
      "    \n",
      "\n"
     ]
    },
    {
     "name": "stdout",
     "output_type": "stream",
     "text": [
      "IPython             conda_build         mmapfile            socketserver\n",
      "OpenSSL             conda_content_trust mmsystem            socks\n",
      "PIL                 conda_env           mock                sockshandler\n",
      "PyQt5               conda_pack          modulefinder        sortedcontainers\n",
      "TBB                 conda_package_handling mpmath              soupsieve\n",
      "__future__          conda_package_streaming msgpack             sphinx\n",
      "_abc                conda_token         msilib              spyder\n",
      "_aix_support        conda_verify        msvcrt              spyder_kernels\n",
      "_argon2_cffi_bindings configparser        multipledispatch    sqlalchemy\n",
      "_ast                constantly          multiprocessing     sqlite3\n",
      "_asyncio            contextlib          munkres             sre_compile\n",
      "_bisect             contextvars         mypy_extensions     sre_constants\n",
      "_black_version      contourpy           nacl                sre_parse\n",
      "_blake2             cookiecutter        navigator_updater   ssl\n",
      "_bootsubprocess     copy                nbclassic           sspi\n",
      "_bz2                copyreg             nbclient            sspicon\n",
      "_cffi_backend       crypt               nbconvert           stack_data\n",
      "_codecs             cryptography        nbformat            stat\n",
      "_codecs_cn          cssselect           nest_asyncio        statistics\n",
      "_codecs_hk          csv                 netbios             statsmodels\n",
      "_codecs_iso2022     ctypes              netrc               string\n",
      "_codecs_jp          curl                networkx            stringprep\n",
      "_codecs_kr          curses              nltk                struct\n",
      "_codecs_tw          cwp                 nntplib             subprocess\n",
      "_collections        cycler              notebook            sunau\n",
      "_collections_abc    cytoolz             notebook_shim       sympy\n",
      "_compat_pickle      daal4py             nt                  symtable\n",
      "_compression        dask                ntpath              sys\n",
      "_contextvars        dataclasses         ntsecuritycon       sysconfig\n",
      "_csv                datashader          nturl2path          tables\n",
      "_ctypes             datashape           numba               tabnanny\n",
      "_ctypes_test        datetime            numbergen           tabulate\n",
      "_datetime           dateutil            numbers             tarfile\n",
      "_decimal            dbi                 numexpr             tbb\n",
      "_distutils_hack     dbm                 numpy               tblib\n",
      "_elementtree        dde                 numpydoc            telnetlib\n",
      "_functools          debugpy             odbc                tempfile\n",
      "_hashlib            decimal             onedal              tenacity\n",
      "_heapq              decorator           opcode              terminado\n",
      "_imp                defusedxml          openpyxl            test\n",
      "_io                 diff_match_patch    operator            test_pycosat\n",
      "_json               difflib             optparse            text_unidecode\n",
      "_locale             dill                os                  textdistance\n",
      "_lsprof             dis                 packaging           textwrap\n",
      "_lzma               distributed         pandas              this\n",
      "_markupbase         distutils           pandocfilters       threading\n",
      "_md5                docstring_to_markdown panel               threadpoolctl\n",
      "_msi                doctest             param               three_merge\n",
      "_multibytecodec     docutils            paramiko            tifffile\n",
      "_multiprocessing    email               parsel              time\n",
      "_nsis               encodings           parso               timeit\n",
      "_opcode             ensurepip           partd               timer\n",
      "_operator           entrypoints         past                tinycss2\n",
      "_osx_support        enum                pathlib             tkinter\n",
      "_overlapped         erfa                pathspec            tldextract\n",
      "_pickle             errno               patsy               tlz\n",
      "_plotly_future_     et_xmlfile          pdb                 token\n",
      "_plotly_utils       executing           pep8                tokenize\n",
      "_py_abc             fastjsonschema      perfmon             tokenizers\n",
      "_pydecimal          faulthandler        pexpect             toml\n",
      "_pyio               filecmp             pickle              tomli\n",
      "_pyrsistent_version fileinput           pickleshare         tomlkit\n",
      "_pytest             filelock            pickletools         toolz\n",
      "_queue              flake8              pip                 torch\n",
      "_random             flask               pipes               torchgen\n",
      "_ruamel_yaml        flit_core           pkg_resources       tornado\n",
      "_sha1               fnmatch             pkginfo             tqdm\n",
      "_sha256             fontTools           pkgutil             trace\n",
      "_sha3               fractions           platform            traceback\n",
      "_sha512             fsspec              platformdirs        tracemalloc\n",
      "_signal             ftplib              plistlib            traitlets\n",
      "_sitebuiltins       functools           plotly              transformers\n",
      "_socket             future              pluggy              tty\n",
      "_sqlite3            gc                  ply                 turtle\n",
      "_sre                genericpath         pooch               turtledemo\n",
      "_ssl                gensim              poplib              twisted\n",
      "_stat               getopt              posixpath           types\n",
      "_statistics         getpass             poyo                typing\n",
      "_string             gettext             pprint              typing_extensions\n",
      "_strptime           glob                profile             ujson\n",
      "_struct             glob2               prometheus_client   unicodedata\n",
      "_symtable           graphlib            prompt_toolkit      unidecode\n",
      "_system_path        greenlet            protego             unittest\n",
      "_testbuffer         gzip                pstats              urllib\n",
      "_testcapi           h5py                psutil              urllib3\n",
      "_testconsole        hamcrest            pty                 uu\n",
      "_testimportmultiple hashlib             ptyprocess          uuid\n",
      "_testinternalcapi   heapdict            pure_eval           venv\n",
      "_testmultiphase     heapq               pvectorc            w3lib\n",
      "_thread             hmac                py                  warnings\n",
      "_threading_local    holoviews           py_compile          watchdog\n",
      "_tkinter            html                pyasn1              wave\n",
      "_tracemalloc        http                pyasn1_modules      wcwidth\n",
      "_uuid               huggingface_hub     pyclbr              weakref\n",
      "_warnings           hvplot              pycodestyle         webbrowser\n",
      "_weakref            hyperlink           pycosat             webencodings\n",
      "_weakrefset         idlelib             pycparser           websocket\n",
      "_win32sysloader     idna                pyct                werkzeug\n",
      "_winapi             imagecodecs         pycurl              whatthepatch\n",
      "_winxptheme         imageio             pydispatch          wheel\n",
      "_xxsubinterpreters  imagesize           pydoc               widgetsnbextension\n",
      "_yaml               imaplib             pydoc_data          win2kras\n",
      "_zoneinfo           imblearn            pydocstyle          win32api\n",
      "abc                 imghdr              pyexpat             win32clipboard\n",
      "adodbapi            imp                 pyflakes            win32com\n",
      "afxres              importlib           pygments            win32con\n",
      "aifc                importlib_metadata  pylab               win32console\n",
      "alabaster           incremental         pylint              win32cred\n",
      "anaconda_navigator  inflection          pylint_venv         win32crypt\n",
      "anaconda_project    iniconfig           pyls_spyder         win32cryptcon\n",
      "antigravity         inspect             pylsp               win32ctypes\n",
      "anyio               intake              pylsp_black         win32event\n",
      "appdirs             intervaltree        pylsp_jsonrpc       win32evtlog\n",
      "argon2              io                  pyodbc              win32evtlogutil\n",
      "argparse            ipaddress           pyparsing           win32file\n",
      "array               ipykernel           pyrsistent          win32gui\n",
      "arrow               ipykernel_launcher  pytest              win32gui_struct\n",
      "ast                 ipython_genutils    pythoncom           win32help\n",
      "astroid             ipywidgets          pytoolconfig        win32inet\n",
      "astropy             isapi               pytz                win32inetcon\n",
      "asttokens           isort               pyviz_comms         win32job\n",
      "asynchat            isympy              pywin               win32lz\n",
      "asyncio             itemadapter         pywin32_bootstrap   win32net\n",
      "asyncore            itemloaders         pywin32_testutil    win32netcon\n",
      "atexit              itertools           pywintypes          win32pdh\n",
      "atomicwrites        itsdangerous        pywt                win32pdhquery\n",
      "attr                jedi                qdarkstyle          win32pdhutil\n",
      "attrs               jellyfish           qstylizer           win32pipe\n",
      "audioop             jinja2              qtawesome           win32print\n",
      "automat             jinja2_time         qtconsole           win32process\n",
      "autopep8            jmespath            qtpy                win32profile\n",
      "babel               joblib              queue               win32ras\n",
      "backcall            json                queuelib            win32rcparser\n",
      "backports           json5               quopri              win32security\n",
      "base64              jsonschema          random              win32service\n",
      "bcrypt              jupyter             rasutil             win32serviceutil\n",
      "bdb                 jupyter_client      re                  win32timezone\n",
      "binaryornot         jupyter_console     regcheck            win32trace\n",
      "binascii            jupyter_core        regex               win32traceutil\n",
      "binhex              jupyter_server      regutil             win32transaction\n",
      "binstar_client      jupyterlab          repo_cli            win32ts\n",
      "bisect              jupyterlab_plotly   reprlib             win32ui\n",
      "black               jupyterlab_pygments requests            win32uiole\n",
      "blackd              jupyterlab_server   requests_file       win32verstamp\n",
      "bleach              jupyterlab_widgets  rlcompleter         win32wnet\n",
      "blib2to3            jwt                 rope                win_inet_pton\n",
      "bokeh               keyring             rtree               wincertstore\n",
      "bottleneck          keyword             ruamel_yaml         winerror\n",
      "brotli              kiwisolver          runpy               winioctlcon\n",
      "bs4                 lazy_object_proxy   sched               winnt\n",
      "builtins            lib2to3             scipy               winperf\n",
      "bz2                 libarchive          scrapy              winpty\n",
      "cProfile            libfuturize         seaborn             winreg\n",
      "caffe2              libpasteurize       secrets             winsound\n",
      "calendar            lief                select              winxpgui\n",
      "certifi             linecache           selectors           winxptheme\n",
      "cffi                llvmlite            send2trash          wrapt\n",
      "cgi                 locale              service_identity    wsgiref\n",
      "cgitb               locket              servicemanager      xarray\n",
      "chardet             logging             setuptools          xdrlib\n",
      "charset_normalizer  lxml                shelve              xlwings\n",
      "chunk               lz4                 shlex               xml\n",
      "click               lzma                shutil              xmlrpc\n",
      "cloudpickle         mailbox             signal              xxlimited\n",
      "clyent              mailcap             sipbuild            xxlimited_35\n",
      "cmath               markdown            site                xxsubtype\n",
      "cmd                 markupsafe          six                 yaml\n",
      "code                marshal             skimage             yapf\n",
      "codecs              math                sklearn             yapftests\n",
      "codeop              matplotlib          sklearnex           zict\n",
      "collections         matplotlib_inline   slugify             zipapp\n",
      "colorama            mccabe              smart_open          zipfile\n",
      "colorcet            menuinst            smtpd               zipimport\n",
      "colorsys            mimetypes           smtplib             zipp\n",
      "comm                mistune             snappy              zlib\n",
      "commctrl            mkl                 sndhdr              zmq\n",
      "compileall          mkl_fft             sniffio             zoneinfo\n",
      "concurrent          mkl_random          snowballstemmer     zope\n",
      "conda               mmap                socket              zstandard\n",
      "\n",
      "Enter any module name to get more help.  Or, type \"modules spam\" to search\n",
      "for modules whose name or summary contain the string \"spam\".\n",
      "\n"
     ]
    }
   ],
   "source": [
    "help('modules')"
   ]
  },
  {
   "cell_type": "markdown",
   "id": "f613221f",
   "metadata": {},
   "source": [
    "# ***********************************************************************************************"
   ]
  },
  {
   "cell_type": "markdown",
   "id": "1bfbece5",
   "metadata": {},
   "source": [
    "# LOOPS"
   ]
  },
  {
   "cell_type": "markdown",
   "id": "738670d9",
   "metadata": {},
   "source": [
    "### Loops in python is used to iterate over a sequence (list,tuple,set,dictionary, and string)"
   ]
  },
  {
   "cell_type": "markdown",
   "id": "7914480b",
   "metadata": {},
   "source": [
    "## 1) While loop"
   ]
  },
  {
   "cell_type": "markdown",
   "id": "221c1f39",
   "metadata": {},
   "source": [
    "## Program\n",
    "### Print a table of a number given by user"
   ]
  },
  {
   "cell_type": "code",
   "execution_count": 12,
   "id": "4314be24",
   "metadata": {},
   "outputs": [
    {
     "name": "stdout",
     "output_type": "stream",
     "text": [
      "Enter the number of a table = 12\n",
      "12 * 1 = 12\n",
      "12 * 2 = 24\n",
      "12 * 3 = 36\n",
      "12 * 4 = 48\n",
      "12 * 5 = 60\n",
      "12 * 6 = 72\n",
      "12 * 7 = 84\n",
      "12 * 8 = 96\n",
      "12 * 9 = 108\n",
      "12 * 10 = 120\n"
     ]
    }
   ],
   "source": [
    "number = int(input('Enter the number of a table = '))\n",
    "\n",
    "i = 1\n",
    "while i < 11 :\n",
    "    print(number,'*',i,'=',number * i)\n",
    "    i += 1"
   ]
  },
  {
   "cell_type": "markdown",
   "id": "cf3e59f2",
   "metadata": {},
   "source": [
    "## While loops with else"
   ]
  },
  {
   "cell_type": "code",
   "execution_count": 14,
   "id": "bd7ff074",
   "metadata": {},
   "outputs": [
    {
     "name": "stdout",
     "output_type": "stream",
     "text": [
      "1\n",
      "2\n",
      "limit crossed\n"
     ]
    }
   ],
   "source": [
    "x = 1\n",
    "\n",
    "while x < 3 :\n",
    "    print(x)\n",
    "    x += 1\n",
    "    \n",
    "else :\n",
    "    print('limit crossed')"
   ]
  },
  {
   "cell_type": "markdown",
   "id": "6a885c1e",
   "metadata": {},
   "source": [
    "## Program\n",
    "### Guessing Game"
   ]
  },
  {
   "cell_type": "code",
   "execution_count": 15,
   "id": "0635cb99",
   "metadata": {},
   "outputs": [
    {
     "name": "stdout",
     "output_type": "stream",
     "text": [
      "guess a number = 54\n",
      "Wrong! guess higher\n",
      "guess a number = 70\n",
      "Wrong! guess higher\n",
      "guess a number = 80\n",
      "Wrong! guess higher\n",
      "guess a number = 92\n",
      "Wrong! guess lower\n",
      "guess a number = 85\n",
      "Wrong! guess higher\n",
      "guess a number = 88\n",
      "Wrong! guess lower\n",
      "guess a number = 86\n",
      "Wrong! guess higher\n",
      "guess a number = 87\n",
      "correct guess\n",
      "attempts : 8\n"
     ]
    }
   ],
   "source": [
    "# generate a random number between 1 and 100\n",
    "\n",
    "import random\n",
    "\n",
    "jackpot = random.randint(1,100)\n",
    "\n",
    "guess = int(input('guess a number = '))\n",
    "\n",
    "attempts = 1\n",
    "while guess != jackpot:\n",
    "    if guess < jackpot :\n",
    "      print('Wrong! guess higher')\n",
    "    else :\n",
    "      print('Wrong! guess lower')\n",
    "    \n",
    "    guess = int(input('guess a number = '))\n",
    "    attempts += 1\n",
    "    \n",
    "else:\n",
    "    print('correct guess')\n",
    "    print('attempts :',attempts)"
   ]
  },
  {
   "cell_type": "markdown",
   "id": "a3ee9ba1",
   "metadata": {},
   "source": [
    "## 2) For loop"
   ]
  },
  {
   "cell_type": "code",
   "execution_count": 16,
   "id": "cbd521f5",
   "metadata": {},
   "outputs": [
    {
     "name": "stdout",
     "output_type": "stream",
     "text": [
      "1\n",
      "2\n",
      "3\n",
      "4\n",
      "5\n",
      "6\n"
     ]
    }
   ],
   "source": [
    "for i in range(1,7):\n",
    "    print(i)"
   ]
  },
  {
   "cell_type": "code",
   "execution_count": 17,
   "id": "b14cdb5f",
   "metadata": {},
   "outputs": [
    {
     "name": "stdout",
     "output_type": "stream",
     "text": [
      "1\n",
      "4\n",
      "7\n",
      "10\n"
     ]
    }
   ],
   "source": [
    "for i in range(1,11,3):\n",
    "    print(i)"
   ]
  },
  {
   "cell_type": "code",
   "execution_count": 18,
   "id": "2d8de11b",
   "metadata": {},
   "outputs": [
    {
     "name": "stdout",
     "output_type": "stream",
     "text": [
      "7\n",
      "6\n",
      "5\n",
      "4\n",
      "3\n",
      "2\n",
      "1\n"
     ]
    }
   ],
   "source": [
    "for i in range(7,0,-1):\n",
    "    print(i)"
   ]
  },
  {
   "cell_type": "code",
   "execution_count": 19,
   "id": "9f09e540",
   "metadata": {},
   "outputs": [
    {
     "name": "stdout",
     "output_type": "stream",
     "text": [
      "7\n",
      "5\n",
      "3\n",
      "1\n"
     ]
    }
   ],
   "source": [
    "for i in range(7,0,-2):\n",
    "    print(i)"
   ]
  },
  {
   "cell_type": "code",
   "execution_count": 20,
   "id": "924b61d1",
   "metadata": {},
   "outputs": [
    {
     "name": "stdout",
     "output_type": "stream",
     "text": [
      "K\n",
      "a\n",
      "n\n",
      "i\n",
      "n\n",
      "a\n"
     ]
    }
   ],
   "source": [
    "for i in 'Kanina':\n",
    "    print(i)"
   ]
  },
  {
   "cell_type": "code",
   "execution_count": 21,
   "id": "becb04da",
   "metadata": {},
   "outputs": [
    {
     "name": "stdout",
     "output_type": "stream",
     "text": [
      "1\n",
      "2\n",
      "3\n",
      "4\n",
      "5\n"
     ]
    }
   ],
   "source": [
    "for i in (1,2,3,4,5):\n",
    "    print(i)"
   ]
  },
  {
   "cell_type": "code",
   "execution_count": 22,
   "id": "dd6928ae",
   "metadata": {},
   "outputs": [
    {
     "name": "stdout",
     "output_type": "stream",
     "text": [
      "1\n",
      "2\n",
      "3\n",
      "4\n",
      "5\n"
     ]
    }
   ],
   "source": [
    "for i in {1,2,3,4,5}:\n",
    "    print(i)"
   ]
  },
  {
   "cell_type": "code",
   "execution_count": 23,
   "id": "194efb66",
   "metadata": {},
   "outputs": [
    {
     "name": "stdout",
     "output_type": "stream",
     "text": [
      "1\n",
      "2\n",
      "3\n",
      "4\n",
      "5\n"
     ]
    }
   ],
   "source": [
    "for i in [1,2,3,4,5]:\n",
    "    print(i)"
   ]
  },
  {
   "cell_type": "markdown",
   "id": "b15e0d59",
   "metadata": {},
   "source": [
    "# Program\n",
    "##  The current population of a town is 10000. The population of the town is increasing at the rate of 10% per year. You have to write a program to find out the population at the end of each of the last 10 years."
   ]
  },
  {
   "cell_type": "code",
   "execution_count": 1,
   "id": "ff85068e",
   "metadata": {
    "scrolled": true
   },
   "outputs": [
    {
     "name": "stdout",
     "output_type": "stream",
     "text": [
      "10 10000\n",
      "9 9090\n",
      "8 8264\n",
      "7 7513\n",
      "6 6830\n",
      "5 6209\n",
      "4 5644\n",
      "3 5131\n",
      "2 4665\n",
      "1 4240\n"
     ]
    }
   ],
   "source": [
    "curr_pop = 10000\n",
    "\n",
    "for i in range(10,0,-1):\n",
    "    print(i,int(curr_pop))\n",
    "    curr_pop = curr_pop / 1.1"
   ]
  },
  {
   "cell_type": "markdown",
   "id": "295a0261",
   "metadata": {},
   "source": [
    "# Program\n",
    "## Sequence Sum<br>1/1! + 2/2! + 3/3! + ..."
   ]
  },
  {
   "cell_type": "code",
   "execution_count": 3,
   "id": "64dc29c1",
   "metadata": {},
   "outputs": [
    {
     "name": "stdout",
     "output_type": "stream",
     "text": [
      "enter n = 10\n",
      "1.0\n",
      "2.0\n",
      "2.5\n",
      "2.666667\n",
      "2.708333\n",
      "2.716667\n",
      "2.718056\n",
      "2.718254\n",
      "2.718279\n",
      "2.718282\n"
     ]
    }
   ],
   "source": [
    "n = int(input('enter n = '))\n",
    "\n",
    "result = 0\n",
    "fact = 1\n",
    "\n",
    "for i in range(1,n+1) :\n",
    "    fact = fact * i\n",
    "    result = result + i/fact\n",
    "    \n",
    "    print(round(result,6))"
   ]
  },
  {
   "cell_type": "markdown",
   "id": "63672204",
   "metadata": {},
   "source": [
    "# 3) NESTED LOOPS"
   ]
  },
  {
   "cell_type": "code",
   "execution_count": 4,
   "id": "38b36513",
   "metadata": {
    "scrolled": true
   },
   "outputs": [
    {
     "name": "stdout",
     "output_type": "stream",
     "text": [
      "1 1\n",
      "1 2\n",
      "1 3\n",
      "1 4\n",
      "2 1\n",
      "2 2\n",
      "2 3\n",
      "2 4\n",
      "3 1\n",
      "3 2\n",
      "3 3\n",
      "3 4\n",
      "4 1\n",
      "4 2\n",
      "4 3\n",
      "4 4\n"
     ]
    }
   ],
   "source": [
    "# Unique pairs of two-digits from 1 to 4 numbers\n",
    "\n",
    "for i in range(1,5) :\n",
    "    for j in range(1,5) :\n",
    "        print(i,j)"
   ]
  },
  {
   "cell_type": "markdown",
   "id": "f264c2bb",
   "metadata": {},
   "source": [
    "## Pattern 1"
   ]
  },
  {
   "cell_type": "code",
   "execution_count": 5,
   "id": "9840c587",
   "metadata": {},
   "outputs": [
    {
     "name": "stdout",
     "output_type": "stream",
     "text": [
      "enet number of rows = 5\n",
      "*\n",
      "**\n",
      "***\n",
      "****\n",
      "*****\n"
     ]
    }
   ],
   "source": [
    "rows = int(input('enet number of rows = '))\n",
    "\n",
    "for i in range(1,rows + 1) :\n",
    "    for j in range(1,i+1) :\n",
    "        print('*',end='')\n",
    "    print()"
   ]
  },
  {
   "cell_type": "markdown",
   "id": "bbeb49f4",
   "metadata": {},
   "source": [
    "## Pattern 2"
   ]
  },
  {
   "cell_type": "code",
   "execution_count": 6,
   "id": "d5d7be40",
   "metadata": {},
   "outputs": [
    {
     "name": "stdout",
     "output_type": "stream",
     "text": [
      "enter number of rows = 5\n",
      "1\n",
      "121\n",
      "12321\n",
      "1234321\n",
      "123454321\n"
     ]
    }
   ],
   "source": [
    "rows = int(input('enter number of rows = '))\n",
    "\n",
    "for i in range(1,rows+1) :\n",
    "    for j in range(1,i+1) :\n",
    "        print(j,end='')\n",
    "    for k in range(j-1,0,-1) :\n",
    "        print(k,end='')\n",
    "    print()"
   ]
  },
  {
   "cell_type": "markdown",
   "id": "a8fbb8aa",
   "metadata": {},
   "source": [
    "# Loop Control Statement\n",
    "## - Break\n",
    "## - Continue\n",
    "## - Pass"
   ]
  },
  {
   "cell_type": "markdown",
   "id": "c7d5463a",
   "metadata": {},
   "source": [
    "## i) Break"
   ]
  },
  {
   "cell_type": "code",
   "execution_count": 7,
   "id": "aa73299f",
   "metadata": {},
   "outputs": [
    {
     "name": "stdout",
     "output_type": "stream",
     "text": [
      "1\n",
      "2\n",
      "3\n",
      "4\n"
     ]
    }
   ],
   "source": [
    "for i in range(1,10) :\n",
    "    if i == 5:\n",
    "        break\n",
    "    print(i)"
   ]
  },
  {
   "cell_type": "markdown",
   "id": "ccbcd475",
   "metadata": {},
   "source": [
    "# Program\n",
    "## Print all the prime numbers in between Lower & Upper range"
   ]
  },
  {
   "cell_type": "code",
   "execution_count": 8,
   "id": "b5d303f8",
   "metadata": {
    "scrolled": true
   },
   "outputs": [
    {
     "name": "stdout",
     "output_type": "stream",
     "text": [
      "enter lower range = 10\n",
      "enter upper range = 100\n",
      "11\n",
      "13\n",
      "17\n",
      "19\n",
      "23\n",
      "29\n",
      "31\n",
      "37\n",
      "41\n",
      "43\n",
      "47\n",
      "53\n",
      "59\n",
      "61\n",
      "67\n",
      "71\n",
      "73\n",
      "79\n",
      "83\n",
      "89\n",
      "97\n"
     ]
    }
   ],
   "source": [
    "lower = int(input('enter lower range = '))\n",
    "upper = int(input('enter upper range = '))\n",
    "\n",
    "for i in range(lower,upper+1) :\n",
    "    for j in range(2,i) :\n",
    "        if i % j == 0 :\n",
    "            break\n",
    "    else :\n",
    "        print(i)"
   ]
  },
  {
   "cell_type": "markdown",
   "id": "8f5bd929",
   "metadata": {},
   "source": [
    "## ii) Continue"
   ]
  },
  {
   "cell_type": "code",
   "execution_count": 9,
   "id": "56ed955e",
   "metadata": {},
   "outputs": [
    {
     "name": "stdout",
     "output_type": "stream",
     "text": [
      "1\n",
      "2\n",
      "3\n",
      "4\n",
      "6\n",
      "7\n",
      "8\n",
      "9\n"
     ]
    }
   ],
   "source": [
    "for i in range(1,10) :\n",
    "    if i == 5:\n",
    "        continue\n",
    "    print(i)"
   ]
  },
  {
   "cell_type": "markdown",
   "id": "3da5be29",
   "metadata": {},
   "source": [
    "## iii) pass"
   ]
  },
  {
   "cell_type": "code",
   "execution_count": 10,
   "id": "564afa48",
   "metadata": {},
   "outputs": [],
   "source": [
    "for i in range(1,10):\n",
    "  pass"
   ]
  },
  {
   "cell_type": "markdown",
   "id": "f5f65dd7",
   "metadata": {},
   "source": [
    "# ********************************************************************************************"
   ]
  },
  {
   "cell_type": "markdown",
   "id": "8eea82cc",
   "metadata": {},
   "source": [
    "# Task 1\n",
    "## Write a program that will give you in hand monthly salary after deduction on CTC - HRA(10%), DA(5%), PF(3%) and taxes deduction as below:\n",
    "### Salary(Lakhs) : Tax(%)\n",
    "\n",
    "### Below 5 : 0%<br>5-10 : 10%<br>10-20 : 20%<br>aboove 20 : 30%"
   ]
  },
  {
   "cell_type": "code",
   "execution_count": 1,
   "id": "738f945e",
   "metadata": {},
   "outputs": [
    {
     "name": "stdout",
     "output_type": "stream",
     "text": [
      "Enter your annual CTC = 800000\n",
      "You in hand monthly salary will be : 48000.0\n"
     ]
    }
   ],
   "source": [
    "ctc = int(input('Enter your annual CTC = '))\n",
    "\n",
    "if ctc < 500000:\n",
    "    salary = ctc * .82\n",
    "elif ctc < 1000000:\n",
    "    salary = ctc * .72\n",
    "elif ctc < 2000000:\n",
    "    salary = ctc * .62\n",
    "elif ctc < 3000000:\n",
    "    salary = ctc * .52\n",
    "    \n",
    "print(\"You in hand monthly salary will be :\",round(salary/12,2))"
   ]
  },
  {
   "cell_type": "markdown",
   "id": "6353fdcd",
   "metadata": {},
   "source": [
    "# Task 2\n",
    "## Write a program that take a user input of three angles and will find out whether it can form a triangle or not.<br>Hint - Sum of all angles is 180 and all angles are positive"
   ]
  },
  {
   "cell_type": "code",
   "execution_count": 2,
   "id": "30f5f953",
   "metadata": {},
   "outputs": [
    {
     "name": "stdout",
     "output_type": "stream",
     "text": [
      "enter the 1st angle = 70\n",
      "enter the 2nd angle = 50\n",
      "enter the 3rd angle = 60\n",
      "forms a triangle\n"
     ]
    }
   ],
   "source": [
    "first = int(input('enter the 1st angle = '))\n",
    "second = int(input('enter the 2nd angle = '))\n",
    "third = int(input('enter the 3rd angle = '))\n",
    "\n",
    "if (first + second + third) == 180 and first > 0 and second > 0 and third > 0:\n",
    "    print('forms a triangle')\n",
    "else:\n",
    "  print('does not form a triangle')"
   ]
  },
  {
   "cell_type": "markdown",
   "id": "80d8237d",
   "metadata": {},
   "source": [
    "# Task 3\n",
    "## Write a program that will take user input of cost price and selling price and determines whether its a loss or a profit."
   ]
  },
  {
   "cell_type": "code",
   "execution_count": 3,
   "id": "4dfa0e15",
   "metadata": {},
   "outputs": [
    {
     "name": "stdout",
     "output_type": "stream",
     "text": [
      "Enter cost price = 200\n",
      "Enter selling price = 240\n",
      "Profit\n"
     ]
    }
   ],
   "source": [
    "cp = int(input('Enter cost price = '))\n",
    "sp = int(input('Enter selling price = '))\n",
    "\n",
    "if cp > sp :\n",
    "    print('Loss')\n",
    "elif cp < sp :\n",
    "    print('Profit')\n",
    "else :\n",
    "    print('No Profit No Loss')"
   ]
  },
  {
   "cell_type": "markdown",
   "id": "76a7635b",
   "metadata": {},
   "source": [
    "# Task 4\n",
    "## Write a menu-driven program -\n",
    "###       1) cm to ft\n",
    "### 2) km to miles\n",
    "### 3) USD to INR\n",
    "### 4) exit\n",
    "\n",
    "## Hint :\n",
    "### - 1 cm = 0.032ft\n",
    "### - 1km = 0.62 miles\n",
    "### - 1 USD = 80 INR"
   ]
  },
  {
   "cell_type": "code",
   "execution_count": 4,
   "id": "d52383e7",
   "metadata": {},
   "outputs": [
    {
     "name": "stdout",
     "output_type": "stream",
     "text": [
      "\n",
      "Hi select an option\n",
      "1. cms to ft\n",
      "2. km to miles\n",
      "3. USD to INR\n",
      "4. Exit\n",
      "3\n",
      "Enter usd value = 20\n",
      "INR value is : 1600.0\n"
     ]
    }
   ],
   "source": [
    "menu = input(\"\"\"\n",
    "Hi select an option\n",
    "1. cms to ft\n",
    "2. km to miles\n",
    "3. USD to INR\n",
    "4. Exit\n",
    "\"\"\")\n",
    "\n",
    "if menu == '1' :\n",
    "    cm = float(input('Enter cm value = '))\n",
    "    print('ft value is :',cm*0.032)\n",
    "if menu == '2' :\n",
    "    km = float(input('Enter km value = '))\n",
    "    print('miles value is :',km*0.62)\n",
    "if menu == '3' :\n",
    "    usd = float(input('Enter usd value = '))\n",
    "    print('INR value is :',usd*80)\n",
    "else :\n",
    "    exit()"
   ]
  },
  {
   "cell_type": "markdown",
   "id": "b181b650",
   "metadata": {},
   "source": [
    "# Task 5\n",
    "## Display Fibonacci series up to 10 terms."
   ]
  },
  {
   "cell_type": "code",
   "execution_count": 5,
   "id": "965a01bc",
   "metadata": {},
   "outputs": [
    {
     "name": "stdout",
     "output_type": "stream",
     "text": [
      "0\n",
      "1\n",
      "1\n",
      "2\n",
      "3\n",
      "5\n",
      "8\n",
      "13\n",
      "21\n",
      "34\n"
     ]
    }
   ],
   "source": [
    "num1, num2 = 0,1\n",
    "\n",
    "for i in range(10) : # range is 0 to 9\n",
    "    print(num1)\n",
    "    \n",
    "    next = num1 + num2\n",
    "    \n",
    "    num1 = num2\n",
    "    num2 = next"
   ]
  },
  {
   "cell_type": "markdown",
   "id": "6d61c943",
   "metadata": {},
   "source": [
    "# Task 6\n",
    "##  Find the factorial of a given number."
   ]
  },
  {
   "cell_type": "code",
   "execution_count": 6,
   "id": "6b3c9605",
   "metadata": {},
   "outputs": [
    {
     "name": "stdout",
     "output_type": "stream",
     "text": [
      "enter the number5\n",
      "1\n",
      "2\n",
      "6\n",
      "24\n",
      "120\n"
     ]
    }
   ],
   "source": [
    "num = int(input('enter the number'))\n",
    "\n",
    "fact = 1\n",
    "for i in range(1,num+1) :\n",
    "    fact = fact*i\n",
    "    \n",
    "    print(fact)"
   ]
  },
  {
   "cell_type": "markdown",
   "id": "0513a2f8",
   "metadata": {},
   "source": [
    "# Task 7\n",
    "## Reverse an integer number"
   ]
  },
  {
   "cell_type": "code",
   "execution_count": 7,
   "id": "53f0c207",
   "metadata": {},
   "outputs": [
    {
     "name": "stdout",
     "output_type": "stream",
     "text": [
      "Enter a number = 12345\n",
      "Reverse no is : 54321\n"
     ]
    }
   ],
   "source": [
    "number = int(input('Enter a number = '))\n",
    "\n",
    "rev = 0\n",
    "\n",
    "while number > 0 :\n",
    "    last = number % 10\n",
    "    rev = rev * 10 + last\n",
    "    number //= 10\n",
    "    \n",
    "print('Reverse no is :',rev)"
   ]
  },
  {
   "cell_type": "markdown",
   "id": "29b2deec",
   "metadata": {},
   "source": [
    "# Task 8\n",
    "## Take a user input as integer N. Find out the sum from 1 to N. If any number if divisible by 5, then skip that number. And if the sum is greater than 300, don't need to calculate the sum further more. Print the final result. And don't use for loop to solve this problem."
   ]
  },
  {
   "cell_type": "code",
   "execution_count": 12,
   "id": "36cc5f40",
   "metadata": {},
   "outputs": [
    {
     "name": "stdout",
     "output_type": "stream",
     "text": [
      "enter a number = 30\n",
      "276\n"
     ]
    }
   ],
   "source": [
    "# using for loop\n",
    "\n",
    "n = int(input('enter a number = '))\n",
    "\n",
    "sum = 0\n",
    "for i in range(1,n+1) :\n",
    "    if i % 5 == 0 :\n",
    "        continue\n",
    "    sum += i\n",
    "    \n",
    "    if sum > 300 :\n",
    "        sum -= i\n",
    "        break\n",
    "print(sum)"
   ]
  },
  {
   "cell_type": "code",
   "execution_count": 13,
   "id": "6d01ec55",
   "metadata": {},
   "outputs": [
    {
     "name": "stdout",
     "output_type": "stream",
     "text": [
      "enter a number = 30\n",
      "276\n"
     ]
    }
   ],
   "source": [
    "# using while loop\n",
    "\n",
    "n = int(input('enter a number = '))\n",
    "\n",
    "sum = 0\n",
    "i = 1\n",
    "\n",
    "while i <= n :\n",
    "    if i % 5 == 0 :\n",
    "        i += 1\n",
    "        continue\n",
    "    sum += i\n",
    "    \n",
    "    if sum > 300 :\n",
    "        sum -= i\n",
    "        break\n",
    "    i += 1\n",
    "print(sum)"
   ]
  },
  {
   "cell_type": "markdown",
   "id": "c805e1c4",
   "metadata": {},
   "source": [
    "# Task 9\n",
    "## Write a program that keeps on accepting a number from the user until the user enters Zero. Display the sum and average of all the numbers."
   ]
  },
  {
   "cell_type": "code",
   "execution_count": 14,
   "id": "8c7bb235",
   "metadata": {},
   "outputs": [
    {
     "name": "stdout",
     "output_type": "stream",
     "text": [
      "enter number = 10\n",
      "enter number = 20\n",
      "enter number = 30\n",
      "enter number = 0\n",
      "sum : 60\n",
      "avg : 20.0\n"
     ]
    }
   ],
   "source": [
    "sum = 0\n",
    "count = 0\n",
    "\n",
    "while True:\n",
    "    num = int(input('enter number = '))\n",
    "    if num == 0:\n",
    "        break\n",
    "    sum += num\n",
    "    count += 1\n",
    "    \n",
    "print('sum :',sum)\n",
    "print('avg :',sum/count)"
   ]
  },
  {
   "cell_type": "markdown",
   "id": "b0531486",
   "metadata": {},
   "source": [
    "# Task 10\n",
    "## Write a program which will find all such numbers which are divisible by 7 but are not a multiple of 5, between 2000 and 3200 (both included). The numbers obtained should be printed in a comma-separated sequence on a single line."
   ]
  },
  {
   "cell_type": "code",
   "execution_count": 15,
   "id": "17db09e6",
   "metadata": {},
   "outputs": [
    {
     "name": "stdout",
     "output_type": "stream",
     "text": [
      "2002,2009,2016,2023,2037,2044,2051,2058,2072,2079,2086,2093,2107,2114,2121,2128,2142,2149,2156,2163,2177,2184,2191,2198,2212,2219,2226,2233,2247,2254,2261,2268,2282,2289,2296,2303,2317,2324,2331,2338,2352,2359,2366,2373,2387,2394,2401,2408,2422,2429,2436,2443,2457,2464,2471,2478,2492,2499,2506,2513,2527,2534,2541,2548,2562,2569,2576,2583,2597,2604,2611,2618,2632,2639,2646,2653,2667,2674,2681,2688,2702,2709,2716,2723,2737,2744,2751,2758,2772,2779,2786,2793,2807,2814,2821,2828,2842,2849,2856,2863,2877,2884,2891,2898,2912,2919,2926,2933,2947,2954,2961,2968,2982,2989,2996,3003,3017,3024,3031,3038,3052,3059,3066,3073,3087,3094,3101,3108,3122,3129,3136,3143,3157,3164,3171,3178,3192,3199\n"
     ]
    }
   ],
   "source": [
    "L = []\n",
    "for i in range(2000,3201) :\n",
    "    if i % 7 == 0 and i % 5 != 0 :\n",
    "        L.append(str(i))\n",
    "        \n",
    "print(','.join(L))"
   ]
  },
  {
   "cell_type": "markdown",
   "id": "1f622da4",
   "metadata": {},
   "source": [
    "# Task 11\n",
    "## Write a program, which will find all such numbers between 1000 and 3000 (both included) such that each digit of the number is an even number. The numbers obtained should be printed in a space-separated sequence on a single line."
   ]
  },
  {
   "cell_type": "code",
   "execution_count": 19,
   "id": "bd81eae6",
   "metadata": {},
   "outputs": [
    {
     "name": "stdout",
     "output_type": "stream",
     "text": [
      "2000,2002,2004,2006,2008,2020,2022,2024,2026,2028,2040,2042,2044,2046,2048,2060,2062,2064,2066,2068,2080,2082,2084,2086,2088,2200,2202,2204,2206,2208,2220,2222,2224,2226,2228,2240,2242,2244,2246,2248,2260,2262,2264,2266,2268,2280,2282,2284,2286,2288,2400,2402,2404,2406,2408,2420,2422,2424,2426,2428,2440,2442,2444,2446,2448,2460,2462,2464,2466,2468,2480,2482,2484,2486,2488,2600,2602,2604,2606,2608,2620,2622,2624,2626,2628,2640,2642,2644,2646,2648,2660,2662,2664,2666,2668,2680,2682,2684,2686,2688,2800,2802,2804,2806,2808,2820,2822,2824,2826,2828,2840,2842,2844,2846,2848,2860,2862,2864,2866,2868,2880,2882,2884,2886,2888\n"
     ]
    }
   ],
   "source": [
    "L = []\n",
    "\n",
    "for i in range(1000,3001) :\n",
    "    flag = True\n",
    "    \n",
    "    curr = i\n",
    "    \n",
    "    while curr > 0 :\n",
    "        last = curr % 10\n",
    "        if last % 2 != 0 :\n",
    "            flag = False\n",
    "            break\n",
    "        curr //= 10\n",
    "    \n",
    "    if flag == True:\n",
    "        L.append(str(i))\n",
    "        \n",
    "print(','.join(L))"
   ]
  },
  {
   "cell_type": "markdown",
   "id": "0d072279",
   "metadata": {},
   "source": [
    "# Task 12\n",
    "## A robot moves in a plane starting from the original point (0,0). The robot can move toward UP, DOWN, LEFT and RIGHT with a given steps.\n",
    "### The trace of robot movement is shown as the following:\n",
    "### UP 5\n",
    "### DOWN 3\n",
    "### LEFT 3\n",
    "### RIGHT 2\n",
    "### !\n",
    "### ! means robot stop there.\n",
    "## Write a program to compute the distance from current position after a sequence of movement and original point.\n",
    "\n",
    "### If the distance is a float, then just print the nearest integer."
   ]
  },
  {
   "cell_type": "code",
   "execution_count": 25,
   "id": "50d83892",
   "metadata": {},
   "outputs": [
    {
     "name": "stdout",
     "output_type": "stream",
     "text": [
      "enter a robot path = UP 5\n",
      "enter a robot path = RIGHT 7\n",
      "enter a robot path = LEFT 9\n",
      "enter a robot path = DOWN 1\n",
      "enter a robot path = !\n",
      "new pos [-2, 4]\n",
      "4\n"
     ]
    }
   ],
   "source": [
    "pos = [0,0]\n",
    "while True:\n",
    "    s = input('enter a robot path = ')\n",
    "    if s == '!' :\n",
    "        break\n",
    "    direction = s.split()[0]\n",
    "    steps = int(s.split()[1])\n",
    "    \n",
    "    if direction == 'LEFT':\n",
    "        pos[0] = pos[0] - steps\n",
    "    elif direction == 'RIGHT':\n",
    "        pos[0] = pos[0] + steps\n",
    "    elif direction == 'UP':\n",
    "        pos[1] = pos[1] + steps\n",
    "    elif direction == 'DOWN':\n",
    "        pos[1] = pos[1] - steps\n",
    "    else :\n",
    "        pass\n",
    "\n",
    "print('new pos',pos)\n",
    "print(int((pos[0]**2 + pos[1]**2)**0.5))"
   ]
  },
  {
   "cell_type": "markdown",
   "id": "d809b6d5",
   "metadata": {},
   "source": [
    "# Task 13\n",
    "## Write a program to print whether a given number is a prime number or not"
   ]
  },
  {
   "cell_type": "code",
   "execution_count": 1,
   "id": "841ba394",
   "metadata": {},
   "outputs": [
    {
     "name": "stdout",
     "output_type": "stream",
     "text": [
      "Enter the number = 13\n",
      "Prime\n"
     ]
    }
   ],
   "source": [
    "num = int(input('Enter the number = '))\n",
    "\n",
    "flag = True\n",
    "for i in range(2,num) :\n",
    "    if num % i == 0:\n",
    "        flag = False\n",
    "        break\n",
    "        \n",
    "if flag == True:\n",
    "    print('Prime')\n",
    "else :\n",
    "    print('Not prime')"
   ]
  },
  {
   "cell_type": "markdown",
   "id": "51352d1b",
   "metadata": {},
   "source": [
    "# Task 14\n",
    "## Print the following pattern. Write a program to use for loop to print the following reverse number pattern.\n",
    "5 4 3 2 1\n",
    "\n",
    "4 3 2 1\n",
    "\n",
    "3 2 1\n",
    "\n",
    "2 1\n",
    "\n",
    "1"
   ]
  },
  {
   "cell_type": "code",
   "execution_count": 2,
   "id": "c29e4092",
   "metadata": {},
   "outputs": [
    {
     "name": "stdout",
     "output_type": "stream",
     "text": [
      "enter the rows = 5\n",
      "5 4 3 2 1 \n",
      "4 3 2 1 \n",
      "3 2 1 \n",
      "2 1 \n",
      "1 \n"
     ]
    }
   ],
   "source": [
    "rows = int(input('enter the rows = '))\n",
    "\n",
    "for i in range(0,rows):\n",
    "    for j in range(rows-i,0,-1):\n",
    "        print(j,end=' ')\n",
    "    print()"
   ]
  },
  {
   "cell_type": "markdown",
   "id": "7c912e0b",
   "metadata": {},
   "source": [
    "# Task 15\n",
    "## Print the following pattern\n",
    "```bash\n",
    "* \n",
    "* * \n",
    "* * * \n",
    "* * * * \n",
    "* * * * * \n",
    "* * * * \n",
    "* * * \n",
    "* * \n",
    "*\n",
    "```"
   ]
  },
  {
   "cell_type": "code",
   "execution_count": 4,
   "id": "1b75f1ab",
   "metadata": {},
   "outputs": [
    {
     "name": "stdout",
     "output_type": "stream",
     "text": [
      "enter the rows = 5\n",
      "* \n",
      "* * \n",
      "* * * \n",
      "* * * * \n",
      "* * * * * \n",
      "* * * * \n",
      "* * * \n",
      "* * \n",
      "* \n"
     ]
    }
   ],
   "source": [
    "rows = int(input('enter the rows = '))\n",
    "\n",
    "for i in range(1,rows+1):\n",
    "    for j in range(1,i+1):\n",
    "        print('*',end=' ')\n",
    "    print()\n",
    "    \n",
    "for i in range(1,rows):\n",
    "    for j in range(rows-i,0,-1):\n",
    "        print('*',end=' ')\n",
    "    print()"
   ]
  },
  {
   "cell_type": "markdown",
   "id": "8d0cdd97",
   "metadata": {},
   "source": [
    "# Task 16\n",
    "## Write a program to pring the following pattern\n",
    "```bash\n",
    "   *\n",
    "  * *\n",
    " * * *\n",
    "* * * *\n",
    "```"
   ]
  },
  {
   "cell_type": "code",
   "execution_count": 5,
   "id": "9506b676",
   "metadata": {},
   "outputs": [
    {
     "name": "stdout",
     "output_type": "stream",
     "text": [
      "enter the rows4\n",
      "   * \n",
      "  * * \n",
      " * * * \n",
      "* * * * \n"
     ]
    }
   ],
   "source": [
    "rows = int(input('enter the rows'))\n",
    "\n",
    "for i in range(1,rows+1):\n",
    "    print(' '*(rows-1),end='')\n",
    "    print('* '*i)\n",
    "    rows -= 1"
   ]
  },
  {
   "cell_type": "markdown",
   "id": "5c990f75",
   "metadata": {},
   "source": [
    "# Task 17\n",
    "## Write a program to print the following pattern\n",
    "\n",
    "1 \n",
    "\n",
    "2 1 \n",
    "\n",
    "3 2 1 \n",
    "\n",
    "4 3 2 1 \n",
    "\n",
    "5 4 3 2 1"
   ]
  },
  {
   "cell_type": "code",
   "execution_count": 6,
   "id": "1cffcc77",
   "metadata": {},
   "outputs": [
    {
     "name": "stdout",
     "output_type": "stream",
     "text": [
      "enter the rows5\n",
      "1 \n",
      "2 1 \n",
      "3 2 1 \n",
      "4 3 2 1 \n",
      "5 4 3 2 1 \n"
     ]
    }
   ],
   "source": [
    "rows = int(input('enter the rows'))\n",
    "\n",
    "for i in range(1,rows+1):\n",
    "    for j in range(i,0,-1):\n",
    "        print(j,end=' ')\n",
    "    print()"
   ]
  },
  {
   "cell_type": "markdown",
   "id": "3d054359",
   "metadata": {},
   "source": [
    "# Task 18\n",
    "## Write a Python Program to Find the Sum of the Series till the nth term:<br> \n",
    "### 1 + x^2/2 + x^3/3 + … x^n/n<br>n will be provided by the user"
   ]
  },
  {
   "cell_type": "code",
   "execution_count": 8,
   "id": "205c510c",
   "metadata": {},
   "outputs": [
    {
     "name": "stdout",
     "output_type": "stream",
     "text": [
      "enter x10\n",
      "enter nth term5\n",
      "1 + x^2/2 +x^3/3 +x^4/4 +x^5/5 \n",
      "22884.333333333332\n"
     ]
    }
   ],
   "source": [
    "x = int(input('enter x'))\n",
    "n = int(input('enter nth term'))\n",
    "\n",
    "sum = 1\n",
    "s = ''\n",
    "for i in range(2,n+1):\n",
    "    sum += x**i/i\n",
    "    s = s + 'x^{}/{} +'.format(i,i)\n",
    "print('1 +',s[:-1])\n",
    "print(sum)"
   ]
  },
  {
   "cell_type": "markdown",
   "id": "d3ea83ad",
   "metadata": {},
   "source": [
    "# Task 19\n",
    "## (1/1)*(x-1/x)^1 + (1/2)*(x-1/x)^2 + (1/3)*(x-1/x)^3 + (1/n)*(x-1/x)^n"
   ]
  },
  {
   "cell_type": "code",
   "execution_count": 9,
   "id": "cdeaebf7",
   "metadata": {},
   "outputs": [
    {
     "name": "stdout",
     "output_type": "stream",
     "text": [
      "(1/1)*((x-1)/x)**1 +(1/2)*((x-1)/x)**2 +(1/3)*((x-1)/x)**3 +(1/4)*((x-1)/x)**4 +(1/5)*((x-1)/x)**5 \n",
      "1.8301230000000004\n"
     ]
    }
   ],
   "source": [
    "x = 10\n",
    "n = 5\n",
    "\n",
    "sum = 0\n",
    "s = ''\n",
    "for i in range(1,n+1):\n",
    "    sum += (1/i)*((x-1)/x)**i\n",
    "    s = s + '(1/{})*((x-1)/x)**{} +'.format(i,i)\n",
    "    \n",
    "print(s[:-1])\n",
    "\n",
    "print(sum)"
   ]
  },
  {
   "cell_type": "markdown",
   "id": "97dfdfd0",
   "metadata": {},
   "source": [
    "# Task 20\n",
    "## Find the sum of the series upto n terms.\n",
    "## Write a program to calculate the sum of series up to n term. For example, if n =5 the series will become 2 + 22 + 222 + 2222 + 22222 = 24690. Take the user input and then calculate. And the output style should match which is given in the example."
   ]
  },
  {
   "cell_type": "code",
   "execution_count": 10,
   "id": "96285dbd",
   "metadata": {},
   "outputs": [
    {
     "name": "stdout",
     "output_type": "stream",
     "text": [
      "enter the number of terms = 5\n",
      "2+22+222+2222+22222\n",
      "24690\n"
     ]
    }
   ],
   "source": [
    "n = int(input('enter the number of terms = '))\n",
    "\n",
    "start = 2\n",
    "sum = 0\n",
    "for i in range(0,n):\n",
    "    if i < n-1:\n",
    "        print(start,end='+')\n",
    "    else:\n",
    "        print(start)\n",
    "    sum = sum + start\n",
    "    start = start * 10 + 2\n",
    "    \n",
    "print(sum)"
   ]
  },
  {
   "cell_type": "markdown",
   "id": "86455b9e",
   "metadata": {},
   "source": [
    "# Task 21\n",
    "## Write a program to print all the unique combinations of 1,2,3 and 4\n",
    "`Output`:\n",
    "```\n",
    "1 2 3 4\n",
    "1 2 4 3\n",
    "1 3 2 4\n",
    "1 3 4 2\n",
    "1 4 2 3\n",
    "1 4 3 2\n",
    "2 1 3 4\n",
    "2 1 4 3\n",
    "2 3 1 4\n",
    "2 3 4 1\n",
    "2 4 1 3\n",
    ".\n",
    ".\n",
    "and so on\n",
    "```"
   ]
  },
  {
   "cell_type": "code",
   "execution_count": 11,
   "id": "3270de8c",
   "metadata": {},
   "outputs": [
    {
     "name": "stdout",
     "output_type": "stream",
     "text": [
      "1 1 1 1\n",
      "1 1 1 2\n",
      "1 1 1 3\n",
      "1 1 1 4\n",
      "1 1 2 1\n",
      "1 1 2 2\n",
      "1 1 2 3\n",
      "1 1 2 4\n",
      "1 1 3 1\n",
      "1 1 3 2\n",
      "1 1 3 3\n",
      "1 1 3 4\n",
      "1 1 4 1\n",
      "1 1 4 2\n",
      "1 1 4 3\n",
      "1 1 4 4\n",
      "1 2 1 1\n",
      "1 2 1 2\n",
      "1 2 1 3\n",
      "1 2 1 4\n",
      "1 2 2 1\n",
      "1 2 2 2\n",
      "1 2 2 3\n",
      "1 2 2 4\n",
      "1 2 3 1\n",
      "1 2 3 2\n",
      "1 2 3 3\n",
      "1 2 3 4\n",
      "1 2 4 1\n",
      "1 2 4 2\n",
      "1 2 4 3\n",
      "1 2 4 4\n",
      "1 3 1 1\n",
      "1 3 1 2\n",
      "1 3 1 3\n",
      "1 3 1 4\n",
      "1 3 2 1\n",
      "1 3 2 2\n",
      "1 3 2 3\n",
      "1 3 2 4\n",
      "1 3 3 1\n",
      "1 3 3 2\n",
      "1 3 3 3\n",
      "1 3 3 4\n",
      "1 3 4 1\n",
      "1 3 4 2\n",
      "1 3 4 3\n",
      "1 3 4 4\n",
      "1 4 1 1\n",
      "1 4 1 2\n",
      "1 4 1 3\n",
      "1 4 1 4\n",
      "1 4 2 1\n",
      "1 4 2 2\n",
      "1 4 2 3\n",
      "1 4 2 4\n",
      "1 4 3 1\n",
      "1 4 3 2\n",
      "1 4 3 3\n",
      "1 4 3 4\n",
      "1 4 4 1\n",
      "1 4 4 2\n",
      "1 4 4 3\n",
      "1 4 4 4\n",
      "2 1 1 1\n",
      "2 1 1 2\n",
      "2 1 1 3\n",
      "2 1 1 4\n",
      "2 1 2 1\n",
      "2 1 2 2\n",
      "2 1 2 3\n",
      "2 1 2 4\n",
      "2 1 3 1\n",
      "2 1 3 2\n",
      "2 1 3 3\n",
      "2 1 3 4\n",
      "2 1 4 1\n",
      "2 1 4 2\n",
      "2 1 4 3\n",
      "2 1 4 4\n",
      "2 2 1 1\n",
      "2 2 1 2\n",
      "2 2 1 3\n",
      "2 2 1 4\n",
      "2 2 2 1\n",
      "2 2 2 2\n",
      "2 2 2 3\n",
      "2 2 2 4\n",
      "2 2 3 1\n",
      "2 2 3 2\n",
      "2 2 3 3\n",
      "2 2 3 4\n",
      "2 2 4 1\n",
      "2 2 4 2\n",
      "2 2 4 3\n",
      "2 2 4 4\n",
      "2 3 1 1\n",
      "2 3 1 2\n",
      "2 3 1 3\n",
      "2 3 1 4\n",
      "2 3 2 1\n",
      "2 3 2 2\n",
      "2 3 2 3\n",
      "2 3 2 4\n",
      "2 3 3 1\n",
      "2 3 3 2\n",
      "2 3 3 3\n",
      "2 3 3 4\n",
      "2 3 4 1\n",
      "2 3 4 2\n",
      "2 3 4 3\n",
      "2 3 4 4\n",
      "2 4 1 1\n",
      "2 4 1 2\n",
      "2 4 1 3\n",
      "2 4 1 4\n",
      "2 4 2 1\n",
      "2 4 2 2\n",
      "2 4 2 3\n",
      "2 4 2 4\n",
      "2 4 3 1\n",
      "2 4 3 2\n",
      "2 4 3 3\n",
      "2 4 3 4\n",
      "2 4 4 1\n",
      "2 4 4 2\n",
      "2 4 4 3\n",
      "2 4 4 4\n",
      "3 1 1 1\n",
      "3 1 1 2\n",
      "3 1 1 3\n",
      "3 1 1 4\n",
      "3 1 2 1\n",
      "3 1 2 2\n",
      "3 1 2 3\n",
      "3 1 2 4\n",
      "3 1 3 1\n",
      "3 1 3 2\n",
      "3 1 3 3\n",
      "3 1 3 4\n",
      "3 1 4 1\n",
      "3 1 4 2\n",
      "3 1 4 3\n",
      "3 1 4 4\n",
      "3 2 1 1\n",
      "3 2 1 2\n",
      "3 2 1 3\n",
      "3 2 1 4\n",
      "3 2 2 1\n",
      "3 2 2 2\n",
      "3 2 2 3\n",
      "3 2 2 4\n",
      "3 2 3 1\n",
      "3 2 3 2\n",
      "3 2 3 3\n",
      "3 2 3 4\n",
      "3 2 4 1\n",
      "3 2 4 2\n",
      "3 2 4 3\n",
      "3 2 4 4\n",
      "3 3 1 1\n",
      "3 3 1 2\n",
      "3 3 1 3\n",
      "3 3 1 4\n",
      "3 3 2 1\n",
      "3 3 2 2\n",
      "3 3 2 3\n",
      "3 3 2 4\n",
      "3 3 3 1\n",
      "3 3 3 2\n",
      "3 3 3 3\n",
      "3 3 3 4\n",
      "3 3 4 1\n",
      "3 3 4 2\n",
      "3 3 4 3\n",
      "3 3 4 4\n",
      "3 4 1 1\n",
      "3 4 1 2\n",
      "3 4 1 3\n",
      "3 4 1 4\n",
      "3 4 2 1\n",
      "3 4 2 2\n",
      "3 4 2 3\n",
      "3 4 2 4\n",
      "3 4 3 1\n",
      "3 4 3 2\n",
      "3 4 3 3\n",
      "3 4 3 4\n",
      "3 4 4 1\n",
      "3 4 4 2\n",
      "3 4 4 3\n",
      "3 4 4 4\n",
      "4 1 1 1\n",
      "4 1 1 2\n",
      "4 1 1 3\n",
      "4 1 1 4\n",
      "4 1 2 1\n",
      "4 1 2 2\n",
      "4 1 2 3\n",
      "4 1 2 4\n",
      "4 1 3 1\n",
      "4 1 3 2\n",
      "4 1 3 3\n",
      "4 1 3 4\n",
      "4 1 4 1\n",
      "4 1 4 2\n",
      "4 1 4 3\n",
      "4 1 4 4\n",
      "4 2 1 1\n",
      "4 2 1 2\n",
      "4 2 1 3\n",
      "4 2 1 4\n",
      "4 2 2 1\n",
      "4 2 2 2\n",
      "4 2 2 3\n",
      "4 2 2 4\n",
      "4 2 3 1\n",
      "4 2 3 2\n",
      "4 2 3 3\n",
      "4 2 3 4\n",
      "4 2 4 1\n",
      "4 2 4 2\n",
      "4 2 4 3\n",
      "4 2 4 4\n",
      "4 3 1 1\n",
      "4 3 1 2\n",
      "4 3 1 3\n",
      "4 3 1 4\n",
      "4 3 2 1\n",
      "4 3 2 2\n",
      "4 3 2 3\n",
      "4 3 2 4\n",
      "4 3 3 1\n",
      "4 3 3 2\n",
      "4 3 3 3\n",
      "4 3 3 4\n",
      "4 3 4 1\n",
      "4 3 4 2\n",
      "4 3 4 3\n",
      "4 3 4 4\n",
      "4 4 1 1\n",
      "4 4 1 2\n",
      "4 4 1 3\n",
      "4 4 1 4\n",
      "4 4 2 1\n",
      "4 4 2 2\n",
      "4 4 2 3\n",
      "4 4 2 4\n",
      "4 4 3 1\n",
      "4 4 3 2\n",
      "4 4 3 3\n",
      "4 4 3 4\n",
      "4 4 4 1\n",
      "4 4 4 2\n",
      "4 4 4 3\n",
      "4 4 4 4\n"
     ]
    }
   ],
   "source": [
    "for i in range(1,5):\n",
    "    for j in range(1,5):\n",
    "        for k in range(1,5):\n",
    "            for m in range(1,5):\n",
    "                print(i,j,k,m)"
   ]
  },
  {
   "cell_type": "markdown",
   "id": "66ec27bd",
   "metadata": {},
   "source": [
    "# Task 24\n",
    "## Given a string create short form ofthe string from Initial character. Short form should be capitalised.\n",
    "\n",
    "Example:\n",
    "\n",
    "`Input:`\n",
    "```\n",
    "Lage Raho Munna Bhai\n",
    "```\n",
    "\n",
    "`Output:`\n",
    "```\n",
    "LRMB\n",
    "```"
   ]
  },
  {
   "cell_type": "code",
   "execution_count": 3,
   "id": "e8d7359c",
   "metadata": {},
   "outputs": [
    {
     "name": "stdout",
     "output_type": "stream",
     "text": [
      "LRMB\n"
     ]
    }
   ],
   "source": [
    "inp = 'Lage Raho Munna Bhai'\n",
    "res = ''\n",
    "\n",
    "for i in inp.split():\n",
    "    res = res + i[0].upper()\n",
    "\n",
    "print(res)"
   ]
  },
  {
   "cell_type": "markdown",
   "id": "3e00bb7a",
   "metadata": {},
   "source": [
    "## Task 25\n",
    "# Append second string in the middle of first string\n",
    "\n",
    "`Input:`\n",
    "```\n",
    "innovative\n",
    "data\n",
    "```\n",
    "`Output`:\n",
    "\n",
    "```\n",
    "innovdataative\n",
    "```"
   ]
  },
  {
   "cell_type": "code",
   "execution_count": 5,
   "id": "7a03a679",
   "metadata": {},
   "outputs": [
    {
     "name": "stdout",
     "output_type": "stream",
     "text": [
      "enter the 1st string = innovative\n",
      "enter the 2nd string = data\n",
      "innovdataative\n"
     ]
    }
   ],
   "source": [
    "s1 = input('enter the 1st string = ')\n",
    "s2 = input('enter the 2nd string = ')\n",
    "\n",
    "print(s1[0:len(s1)//2] + s2 + s1[len(s1)//2:])"
   ]
  },
  {
   "cell_type": "markdown",
   "id": "f2a447f9",
   "metadata": {},
   "source": [
    "# Task 26\n",
    "## Given string contains a combination of the lower and upper case letters. Write a program to arrange the characters of a string so that all lowercase letters should come first.\n",
    "\n",
    "Given:\n",
    "\n",
    "`str1 = PyNaTive`\n",
    "\n",
    "Expected Output:\n",
    "\n",
    "`yaivePNT`"
   ]
  },
  {
   "cell_type": "code",
   "execution_count": 6,
   "id": "385c0136",
   "metadata": {},
   "outputs": [
    {
     "name": "stdout",
     "output_type": "stream",
     "text": [
      "yaivePyNaTive\n"
     ]
    }
   ],
   "source": [
    "s = 'PyNaTive'\n",
    "\n",
    "upper = ''\n",
    "lower = ''\n",
    "\n",
    "for i in s:\n",
    "    if i.islower():\n",
    "        lower += i\n",
    "    upper += i\n",
    "    \n",
    "print(lower + upper)"
   ]
  },
  {
   "cell_type": "markdown",
   "id": "86a0d8cd",
   "metadata": {},
   "source": [
    "# Task 27\n",
    "## Take a alphanumeric string input and print the sum and average of the digits that appear in the string, ignoring all other characters.\n",
    "\n",
    "Input:\n",
    "\n",
    "`hel123O4every093`\n",
    "\n",
    "Output:\n",
    "\n",
    "```\n",
    "Sum: 22\n",
    "Avg: 3.14\n",
    "```"
   ]
  },
  {
   "cell_type": "code",
   "execution_count": 7,
   "id": "cf7c9796",
   "metadata": {},
   "outputs": [
    {
     "name": "stdout",
     "output_type": "stream",
     "text": [
      "3.142857142857143\n"
     ]
    }
   ],
   "source": [
    "s = 'hel123O4every093'\n",
    "\n",
    "sum = 0\n",
    "count = 0\n",
    "\n",
    "for i in s:\n",
    "    if i.isdigit():\n",
    "        sum = sum + int(i)\n",
    "        count += 1\n",
    "        \n",
    "print(sum/count)"
   ]
  },
  {
   "cell_type": "markdown",
   "id": "41c635d1",
   "metadata": {},
   "source": [
    "# Task 28\n",
    "## Removal of all characters from a string except integers\n",
    "`Given:`\n",
    "\n",
    "```\n",
    "str1 = 'I am 25 years and 10 months old'\n",
    "```\n",
    "`Expected Output:`\n",
    "```\n",
    "2510\n",
    "```"
   ]
  },
  {
   "cell_type": "code",
   "execution_count": 8,
   "id": "6ba72927",
   "metadata": {},
   "outputs": [
    {
     "name": "stdout",
     "output_type": "stream",
     "text": [
      "2510\n"
     ]
    }
   ],
   "source": [
    "s = 'I am 25 years and 10 months old'\n",
    "res = ''\n",
    "\n",
    "for i in s:\n",
    "    if i.isdigit():\n",
    "        res += i\n",
    "        \n",
    "print(res)"
   ]
  },
  {
   "cell_type": "markdown",
   "id": "75cdcf54",
   "metadata": {},
   "source": []
  }
 ],
 "metadata": {
  "kernelspec": {
   "display_name": "Python 3 (ipykernel)",
   "language": "python",
   "name": "python3"
  },
  "language_info": {
   "codemirror_mode": {
    "name": "ipython",
    "version": 3
   },
   "file_extension": ".py",
   "mimetype": "text/x-python",
   "name": "python",
   "nbconvert_exporter": "python",
   "pygments_lexer": "ipython3",
   "version": "3.10.9"
  }
 },
 "nbformat": 4,
 "nbformat_minor": 5
}
