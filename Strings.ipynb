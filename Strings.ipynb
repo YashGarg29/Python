{
 "cells": [
  {
   "cell_type": "markdown",
   "id": "2d7207fc",
   "metadata": {},
   "source": [
    "Strings are sequence of Characters\n",
    "\n",
    "In Python specifically, strings are a sequence of Unicode Characters\n",
    "\n",
    "- Creating Strings\n",
    "- Accessing Strings\n",
    "- Adding Chars to Strings\n",
    "- Editing Strings\n",
    "- Deleting Strings\n",
    "- Operations on Strings\n",
    "- String Functions"
   ]
  },
  {
   "cell_type": "code",
   "execution_count": 3,
   "id": "1adb33ac",
   "metadata": {},
   "outputs": [
    {
     "name": "stdout",
     "output_type": "stream",
     "text": [
      "hello\n"
     ]
    }
   ],
   "source": [
    "s = 'hello'\n",
    "s = \"hello\"\n",
    "# multiline strings\n",
    "s = '''hello'''\n",
    "s = \"\"\"hello\"\"\"\n",
    "s = str('hello')\n",
    "print(s)"
   ]
  },
  {
   "cell_type": "code",
   "execution_count": 2,
   "id": "490115ca",
   "metadata": {},
   "outputs": [
    {
     "data": {
      "text/plain": [
       "\"it's raining outside\""
      ]
     },
     "execution_count": 2,
     "metadata": {},
     "output_type": "execute_result"
    }
   ],
   "source": [
    "\"it's raining outside\""
   ]
  },
  {
   "cell_type": "markdown",
   "id": "e1fbd38a",
   "metadata": {},
   "source": [
    "## Accessing Substrings from a String"
   ]
  },
  {
   "cell_type": "markdown",
   "id": "a78a27c0",
   "metadata": {},
   "source": [
    "### Indexing"
   ]
  },
  {
   "cell_type": "code",
   "execution_count": 4,
   "id": "425d4752",
   "metadata": {},
   "outputs": [
    {
     "name": "stdout",
     "output_type": "stream",
     "text": [
      "l\n"
     ]
    },
    {
     "ename": "IndexError",
     "evalue": "string index out of range",
     "output_type": "error",
     "traceback": [
      "\u001b[1;31m---------------------------------------------------------------------------\u001b[0m",
      "\u001b[1;31mIndexError\u001b[0m                                Traceback (most recent call last)",
      "Cell \u001b[1;32mIn[4], line 4\u001b[0m\n\u001b[0;32m      2\u001b[0m s \u001b[38;5;241m=\u001b[39m \u001b[38;5;124m'\u001b[39m\u001b[38;5;124mhello world\u001b[39m\u001b[38;5;124m'\u001b[39m\n\u001b[0;32m      3\u001b[0m \u001b[38;5;28mprint\u001b[39m(s[\u001b[38;5;241m2\u001b[39m])\n\u001b[1;32m----> 4\u001b[0m \u001b[38;5;28mprint\u001b[39m(\u001b[43ms\u001b[49m\u001b[43m[\u001b[49m\u001b[38;5;241;43m40\u001b[39;49m\u001b[43m]\u001b[49m)\n",
      "\u001b[1;31mIndexError\u001b[0m: string index out of range"
     ]
    }
   ],
   "source": [
    "# Positive Indexing\n",
    "s = 'hello world'\n",
    "print(s[2])\n",
    "print(s[40])"
   ]
  },
  {
   "cell_type": "code",
   "execution_count": 5,
   "id": "6d68fe77",
   "metadata": {},
   "outputs": [
    {
     "name": "stdout",
     "output_type": "stream",
     "text": [
      "d\n"
     ]
    },
    {
     "ename": "IndexError",
     "evalue": "string index out of range",
     "output_type": "error",
     "traceback": [
      "\u001b[1;31m---------------------------------------------------------------------------\u001b[0m",
      "\u001b[1;31mIndexError\u001b[0m                                Traceback (most recent call last)",
      "Cell \u001b[1;32mIn[5], line 4\u001b[0m\n\u001b[0;32m      2\u001b[0m s \u001b[38;5;241m=\u001b[39m \u001b[38;5;124m'\u001b[39m\u001b[38;5;124mhello world\u001b[39m\u001b[38;5;124m'\u001b[39m\n\u001b[0;32m      3\u001b[0m \u001b[38;5;28mprint\u001b[39m(s[\u001b[38;5;241m-\u001b[39m\u001b[38;5;241m1\u001b[39m])\n\u001b[1;32m----> 4\u001b[0m \u001b[38;5;28mprint\u001b[39m(\u001b[43ms\u001b[49m\u001b[43m[\u001b[49m\u001b[38;5;241;43m-\u001b[39;49m\u001b[38;5;241;43m20\u001b[39;49m\u001b[43m]\u001b[49m)\n",
      "\u001b[1;31mIndexError\u001b[0m: string index out of range"
     ]
    }
   ],
   "source": [
    "# Negative Indexing\n",
    "s = 'hello world'\n",
    "print(s[-1])\n",
    "print(s[-20])"
   ]
  },
  {
   "cell_type": "markdown",
   "id": "f7ef88d9",
   "metadata": {},
   "source": [
    "### Slicing"
   ]
  },
  {
   "cell_type": "code",
   "execution_count": 6,
   "id": "b05ec7c1",
   "metadata": {},
   "outputs": [
    {
     "name": "stdout",
     "output_type": "stream",
     "text": [
      "hello\n"
     ]
    }
   ],
   "source": [
    "s = 'hello world'\n",
    "print(s[0:5])"
   ]
  },
  {
   "cell_type": "code",
   "execution_count": 9,
   "id": "0945a13b",
   "metadata": {},
   "outputs": [
    {
     "name": "stdout",
     "output_type": "stream",
     "text": [
      "llo world\n",
      "hel\n",
      "hello world\n"
     ]
    }
   ],
   "source": [
    "print(s[2:])\n",
    "print(s[:3])\n",
    "print(s[:])"
   ]
  },
  {
   "cell_type": "code",
   "execution_count": 10,
   "id": "4713a60a",
   "metadata": {},
   "outputs": [
    {
     "name": "stdout",
     "output_type": "stream",
     "text": [
      "hlow\n"
     ]
    }
   ],
   "source": [
    "print(s[0:7:2])"
   ]
  },
  {
   "cell_type": "code",
   "execution_count": 11,
   "id": "864fccd4",
   "metadata": {},
   "outputs": [
    {
     "name": "stdout",
     "output_type": "stream",
     "text": [
      "\n"
     ]
    }
   ],
   "source": [
    "print(s[0:6:-1])"
   ]
  },
  {
   "cell_type": "code",
   "execution_count": 18,
   "id": "c19510db",
   "metadata": {},
   "outputs": [
    {
     "name": "stdout",
     "output_type": "stream",
     "text": [
      "w olle\n"
     ]
    }
   ],
   "source": [
    "print(s[6:0:-1])"
   ]
  },
  {
   "cell_type": "code",
   "execution_count": 13,
   "id": "4480a97f",
   "metadata": {},
   "outputs": [
    {
     "name": "stdout",
     "output_type": "stream",
     "text": [
      "wol\n"
     ]
    }
   ],
   "source": [
    "# Negative indexing\n",
    "s = 'hello world'\n",
    "print(s[6:0:-2])"
   ]
  },
  {
   "cell_type": "code",
   "execution_count": 14,
   "id": "10f84b0f",
   "metadata": {},
   "outputs": [
    {
     "name": "stdout",
     "output_type": "stream",
     "text": [
      "dlrow olleh\n"
     ]
    }
   ],
   "source": [
    "print(s[::-1])"
   ]
  },
  {
   "cell_type": "code",
   "execution_count": 19,
   "id": "26b0d540",
   "metadata": {
    "scrolled": true
   },
   "outputs": [
    {
     "name": "stdout",
     "output_type": "stream",
     "text": [
      "world\n"
     ]
    }
   ],
   "source": [
    "print(s[-5:])"
   ]
  },
  {
   "cell_type": "code",
   "execution_count": 21,
   "id": "22391614",
   "metadata": {},
   "outputs": [
    {
     "name": "stdout",
     "output_type": "stream",
     "text": [
      "dlrow\n"
     ]
    }
   ],
   "source": [
    "print(s[-1:-6:-1])"
   ]
  },
  {
   "cell_type": "markdown",
   "id": "7fbaeff2",
   "metadata": {},
   "source": [
    "## Editing and Deleting in Strings"
   ]
  },
  {
   "cell_type": "code",
   "execution_count": 23,
   "id": "378dcd11",
   "metadata": {},
   "outputs": [
    {
     "ename": "TypeError",
     "evalue": "'str' object does not support item assignment",
     "output_type": "error",
     "traceback": [
      "\u001b[1;31m---------------------------------------------------------------------------\u001b[0m",
      "\u001b[1;31mTypeError\u001b[0m                                 Traceback (most recent call last)",
      "Cell \u001b[1;32mIn[23], line 2\u001b[0m\n\u001b[0;32m      1\u001b[0m s \u001b[38;5;241m=\u001b[39m \u001b[38;5;124m'\u001b[39m\u001b[38;5;124mhello world\u001b[39m\u001b[38;5;124m'\u001b[39m\n\u001b[1;32m----> 2\u001b[0m s[\u001b[38;5;241m0\u001b[39m] \u001b[38;5;241m=\u001b[39m \u001b[38;5;124m'\u001b[39m\u001b[38;5;124mH\u001b[39m\u001b[38;5;124m'\u001b[39m\n",
      "\u001b[1;31mTypeError\u001b[0m: 'str' object does not support item assignment"
     ]
    }
   ],
   "source": [
    "s = 'hello world'\n",
    "s[0] = 'H'\n",
    "\n",
    "# Python strings are immutable"
   ]
  },
  {
   "cell_type": "code",
   "execution_count": 24,
   "id": "4b10f117",
   "metadata": {},
   "outputs": [
    {
     "ename": "NameError",
     "evalue": "name 's' is not defined",
     "output_type": "error",
     "traceback": [
      "\u001b[1;31m---------------------------------------------------------------------------\u001b[0m",
      "\u001b[1;31mNameError\u001b[0m                                 Traceback (most recent call last)",
      "Cell \u001b[1;32mIn[24], line 3\u001b[0m\n\u001b[0;32m      1\u001b[0m s \u001b[38;5;241m=\u001b[39m \u001b[38;5;124m'\u001b[39m\u001b[38;5;124mhello world\u001b[39m\u001b[38;5;124m'\u001b[39m\n\u001b[0;32m      2\u001b[0m \u001b[38;5;28;01mdel\u001b[39;00m s\n\u001b[1;32m----> 3\u001b[0m \u001b[38;5;28mprint\u001b[39m(\u001b[43ms\u001b[49m)\n",
      "\u001b[1;31mNameError\u001b[0m: name 's' is not defined"
     ]
    }
   ],
   "source": [
    "s = 'hello world'\n",
    "del s\n",
    "print(s)"
   ]
  },
  {
   "cell_type": "code",
   "execution_count": 26,
   "id": "67f30f9a",
   "metadata": {},
   "outputs": [
    {
     "ename": "TypeError",
     "evalue": "'str' object does not support item deletion",
     "output_type": "error",
     "traceback": [
      "\u001b[1;31m---------------------------------------------------------------------------\u001b[0m",
      "\u001b[1;31mTypeError\u001b[0m                                 Traceback (most recent call last)",
      "Cell \u001b[1;32mIn[26], line 2\u001b[0m\n\u001b[0;32m      1\u001b[0m s \u001b[38;5;241m=\u001b[39m \u001b[38;5;124m'\u001b[39m\u001b[38;5;124mhello world\u001b[39m\u001b[38;5;124m'\u001b[39m\n\u001b[1;32m----> 2\u001b[0m \u001b[38;5;28;01mdel\u001b[39;00m s[\u001b[38;5;241m-\u001b[39m\u001b[38;5;241m1\u001b[39m:\u001b[38;5;241m-\u001b[39m\u001b[38;5;241m5\u001b[39m:\u001b[38;5;241m-\u001b[39m\u001b[38;5;241m2\u001b[39m]\n\u001b[0;32m      3\u001b[0m \u001b[38;5;28mprint\u001b[39m(s)\n",
      "\u001b[1;31mTypeError\u001b[0m: 'str' object does not support item deletion"
     ]
    }
   ],
   "source": [
    "s = 'hello world'\n",
    "del s[-1:-5:-2]\n",
    "print(s)"
   ]
  },
  {
   "cell_type": "markdown",
   "id": "717cfbf4",
   "metadata": {},
   "source": [
    "## Operations on Strings\n",
    "- Arithmetic Operations\n",
    "- Relational Operations\n",
    "- Logical Operations\n",
    "- Loops on Strings\n",
    "- Membership Operations"
   ]
  },
  {
   "cell_type": "markdown",
   "id": "6ac19564",
   "metadata": {},
   "source": [
    "### i) Arithmetic Operations"
   ]
  },
  {
   "cell_type": "code",
   "execution_count": 27,
   "id": "8a606a96",
   "metadata": {},
   "outputs": [
    {
     "name": "stdout",
     "output_type": "stream",
     "text": [
      "delhimumbai\n",
      "delhi mumbai\n"
     ]
    }
   ],
   "source": [
    "print('delhi' + 'mumbai')\n",
    "print('delhi' + ' ' + 'mumbai')"
   ]
  },
  {
   "cell_type": "code",
   "execution_count": 28,
   "id": "08cb7a92",
   "metadata": {},
   "outputs": [
    {
     "name": "stdout",
     "output_type": "stream",
     "text": [
      "delhi delhi delhi delhi delhi \n"
     ]
    }
   ],
   "source": [
    "print('delhi '*5)"
   ]
  },
  {
   "cell_type": "code",
   "execution_count": 29,
   "id": "6726b19e",
   "metadata": {},
   "outputs": [
    {
     "name": "stdout",
     "output_type": "stream",
     "text": [
      "************************************************************\n"
     ]
    }
   ],
   "source": [
    "print('*'*60)"
   ]
  },
  {
   "cell_type": "markdown",
   "id": "37a55bac",
   "metadata": {},
   "source": [
    "### ii) Relational Operations"
   ]
  },
  {
   "cell_type": "code",
   "execution_count": 30,
   "id": "f9c6b268",
   "metadata": {},
   "outputs": [
    {
     "data": {
      "text/plain": [
       "True"
      ]
     },
     "execution_count": 30,
     "metadata": {},
     "output_type": "execute_result"
    }
   ],
   "source": [
    "'delhi' == 'mumbai'\n",
    "'delhi' != 'mumbai'"
   ]
  },
  {
   "cell_type": "code",
   "execution_count": 32,
   "id": "4a3a6d05",
   "metadata": {},
   "outputs": [
    {
     "data": {
      "text/plain": [
       "False"
      ]
     },
     "execution_count": 32,
     "metadata": {},
     "output_type": "execute_result"
    }
   ],
   "source": [
    "'mumbai' > 'pune'\n",
    "# lexiographically compare"
   ]
  },
  {
   "cell_type": "code",
   "execution_count": 33,
   "id": "5d28c5d7",
   "metadata": {},
   "outputs": [
    {
     "data": {
      "text/plain": [
       "False"
      ]
     },
     "execution_count": 33,
     "metadata": {},
     "output_type": "execute_result"
    }
   ],
   "source": [
    "'Pune' > 'pune'"
   ]
  },
  {
   "cell_type": "markdown",
   "id": "94562b9c",
   "metadata": {},
   "source": [
    "### iii) Logical Operations"
   ]
  },
  {
   "cell_type": "code",
   "execution_count": 34,
   "id": "732c1773",
   "metadata": {},
   "outputs": [
    {
     "data": {
      "text/plain": [
       "'world'"
      ]
     },
     "execution_count": 34,
     "metadata": {},
     "output_type": "execute_result"
    }
   ],
   "source": [
    "'hello' and 'world'"
   ]
  },
  {
   "cell_type": "code",
   "execution_count": 35,
   "id": "1a87ebd5",
   "metadata": {},
   "outputs": [
    {
     "data": {
      "text/plain": [
       "'hello'"
      ]
     },
     "execution_count": 35,
     "metadata": {},
     "output_type": "execute_result"
    }
   ],
   "source": [
    "'hello' or 'world'"
   ]
  },
  {
   "cell_type": "code",
   "execution_count": 36,
   "id": "631331e0",
   "metadata": {},
   "outputs": [
    {
     "data": {
      "text/plain": [
       "''"
      ]
     },
     "execution_count": 36,
     "metadata": {},
     "output_type": "execute_result"
    }
   ],
   "source": [
    "'' and 'world'"
   ]
  },
  {
   "cell_type": "code",
   "execution_count": 37,
   "id": "5ba040db",
   "metadata": {},
   "outputs": [
    {
     "data": {
      "text/plain": [
       "'world'"
      ]
     },
     "execution_count": 37,
     "metadata": {},
     "output_type": "execute_result"
    }
   ],
   "source": [
    "'' or 'world'"
   ]
  },
  {
   "cell_type": "code",
   "execution_count": 39,
   "id": "3ef2a681",
   "metadata": {},
   "outputs": [
    {
     "data": {
      "text/plain": [
       "False"
      ]
     },
     "execution_count": 39,
     "metadata": {},
     "output_type": "execute_result"
    }
   ],
   "source": [
    "not 'hello'"
   ]
  },
  {
   "cell_type": "code",
   "execution_count": 40,
   "id": "fe494173",
   "metadata": {},
   "outputs": [
    {
     "data": {
      "text/plain": [
       "True"
      ]
     },
     "execution_count": 40,
     "metadata": {},
     "output_type": "execute_result"
    }
   ],
   "source": [
    "not ''"
   ]
  },
  {
   "cell_type": "markdown",
   "id": "84efac92",
   "metadata": {},
   "source": [
    "### iv) Loops operations"
   ]
  },
  {
   "cell_type": "code",
   "execution_count": 41,
   "id": "4afaab6d",
   "metadata": {},
   "outputs": [
    {
     "name": "stdout",
     "output_type": "stream",
     "text": [
      "h\n",
      "e\n",
      "l\n",
      "l\n",
      "o\n"
     ]
    }
   ],
   "source": [
    "for i in 'hello' :\n",
    "    print(i)"
   ]
  },
  {
   "cell_type": "code",
   "execution_count": 42,
   "id": "7c7e9ff5",
   "metadata": {},
   "outputs": [
    {
     "name": "stdout",
     "output_type": "stream",
     "text": [
      "pune\n",
      "pune\n",
      "pune\n",
      "pune\n",
      "pune\n"
     ]
    }
   ],
   "source": [
    "for i in 'hello' :\n",
    "    print('pune')"
   ]
  },
  {
   "cell_type": "markdown",
   "id": "de278bc5",
   "metadata": {},
   "source": [
    "### v) Membership operations"
   ]
  },
  {
   "cell_type": "code",
   "execution_count": 43,
   "id": "2c343b2a",
   "metadata": {},
   "outputs": [
    {
     "data": {
      "text/plain": [
       "True"
      ]
     },
     "execution_count": 43,
     "metadata": {},
     "output_type": "execute_result"
    }
   ],
   "source": [
    "'D' in 'Delhi'"
   ]
  },
  {
   "cell_type": "code",
   "execution_count": 44,
   "id": "d3372260",
   "metadata": {},
   "outputs": [
    {
     "data": {
      "text/plain": [
       "False"
      ]
     },
     "execution_count": 44,
     "metadata": {},
     "output_type": "execute_result"
    }
   ],
   "source": [
    "'D' not in 'Delhi'"
   ]
  },
  {
   "cell_type": "markdown",
   "id": "ce26045e",
   "metadata": {},
   "source": [
    "## Common functions\n",
    " - len\n",
    " - max\n",
    " - min\n",
    " - sorted"
   ]
  },
  {
   "cell_type": "code",
   "execution_count": 45,
   "id": "d2dd4146",
   "metadata": {},
   "outputs": [
    {
     "data": {
      "text/plain": [
       "11"
      ]
     },
     "execution_count": 45,
     "metadata": {},
     "output_type": "execute_result"
    }
   ],
   "source": [
    "len('hello world')"
   ]
  },
  {
   "cell_type": "code",
   "execution_count": 46,
   "id": "51f44d1f",
   "metadata": {},
   "outputs": [
    {
     "data": {
      "text/plain": [
       "'w'"
      ]
     },
     "execution_count": 46,
     "metadata": {},
     "output_type": "execute_result"
    }
   ],
   "source": [
    "max('hello world')"
   ]
  },
  {
   "cell_type": "code",
   "execution_count": 47,
   "id": "a91aa7a4",
   "metadata": {},
   "outputs": [
    {
     "data": {
      "text/plain": [
       "' '"
      ]
     },
     "execution_count": 47,
     "metadata": {},
     "output_type": "execute_result"
    }
   ],
   "source": [
    "min('hello world')"
   ]
  },
  {
   "cell_type": "code",
   "execution_count": 48,
   "id": "f78755e8",
   "metadata": {},
   "outputs": [
    {
     "data": {
      "text/plain": [
       "[' ', 'd', 'e', 'h', 'l', 'l', 'l', 'o', 'o', 'r', 'w']"
      ]
     },
     "execution_count": 48,
     "metadata": {},
     "output_type": "execute_result"
    }
   ],
   "source": [
    "sorted('hello world')"
   ]
  },
  {
   "cell_type": "code",
   "execution_count": 50,
   "id": "51470410",
   "metadata": {},
   "outputs": [
    {
     "data": {
      "text/plain": [
       "['w', 'r', 'o', 'o', 'l', 'l', 'l', 'h', 'e', 'd', ' ']"
      ]
     },
     "execution_count": 50,
     "metadata": {},
     "output_type": "execute_result"
    }
   ],
   "source": [
    "sorted('hello world',reverse = True)"
   ]
  },
  {
   "cell_type": "markdown",
   "id": "2a949d8e",
   "metadata": {},
   "source": [
    "## Capitalize() / Title() / Upper() / Lower() / Swapcase()"
   ]
  },
  {
   "cell_type": "code",
   "execution_count": 68,
   "id": "3f423b35",
   "metadata": {},
   "outputs": [
    {
     "name": "stdout",
     "output_type": "stream",
     "text": [
      "Hello world\n",
      "hello world\n"
     ]
    }
   ],
   "source": [
    "s = 'hello world'\n",
    "print(s.capitalize())\n",
    "print(s)"
   ]
  },
  {
   "cell_type": "code",
   "execution_count": 52,
   "id": "17e562fd",
   "metadata": {},
   "outputs": [
    {
     "data": {
      "text/plain": [
       "'Hello World'"
      ]
     },
     "execution_count": 52,
     "metadata": {},
     "output_type": "execute_result"
    }
   ],
   "source": [
    "s.title()"
   ]
  },
  {
   "cell_type": "code",
   "execution_count": 53,
   "id": "af274615",
   "metadata": {},
   "outputs": [
    {
     "data": {
      "text/plain": [
       "'HELLO WORLD'"
      ]
     },
     "execution_count": 53,
     "metadata": {},
     "output_type": "execute_result"
    }
   ],
   "source": [
    "s.upper()"
   ]
  },
  {
   "cell_type": "code",
   "execution_count": 54,
   "id": "3afb8689",
   "metadata": {},
   "outputs": [
    {
     "data": {
      "text/plain": [
       "'hello world'"
      ]
     },
     "execution_count": 54,
     "metadata": {},
     "output_type": "execute_result"
    }
   ],
   "source": [
    "s.lower()"
   ]
  },
  {
   "cell_type": "code",
   "execution_count": 55,
   "id": "9749bdcb",
   "metadata": {},
   "outputs": [
    {
     "data": {
      "text/plain": [
       "'hElLo WoRlD'"
      ]
     },
     "execution_count": 55,
     "metadata": {},
     "output_type": "execute_result"
    }
   ],
   "source": [
    "'HeLlO wOrLd'.swapcase()"
   ]
  },
  {
   "cell_type": "markdown",
   "id": "c237817a",
   "metadata": {},
   "source": [
    "## Count() /Find() /Index()"
   ]
  },
  {
   "cell_type": "code",
   "execution_count": 56,
   "id": "c17af396",
   "metadata": {},
   "outputs": [
    {
     "data": {
      "text/plain": [
       "2"
      ]
     },
     "execution_count": 56,
     "metadata": {},
     "output_type": "execute_result"
    }
   ],
   "source": [
    "'my name is yash'.count('a')"
   ]
  },
  {
   "cell_type": "code",
   "execution_count": 58,
   "id": "d97c4a09",
   "metadata": {},
   "outputs": [
    {
     "data": {
      "text/plain": [
       "-1"
      ]
     },
     "execution_count": 58,
     "metadata": {},
     "output_type": "execute_result"
    }
   ],
   "source": [
    "'my name is yash'.find('is')"
   ]
  },
  {
   "cell_type": "code",
   "execution_count": 59,
   "id": "905bfea6",
   "metadata": {},
   "outputs": [
    {
     "data": {
      "text/plain": [
       "-1"
      ]
     },
     "execution_count": 59,
     "metadata": {},
     "output_type": "execute_result"
    }
   ],
   "source": [
    "'my name is yash'.find('x')"
   ]
  },
  {
   "cell_type": "code",
   "execution_count": 60,
   "id": "866cee75",
   "metadata": {},
   "outputs": [
    {
     "data": {
      "text/plain": [
       "8"
      ]
     },
     "execution_count": 60,
     "metadata": {},
     "output_type": "execute_result"
    }
   ],
   "source": [
    "'my name is yash'.index('is')"
   ]
  },
  {
   "cell_type": "code",
   "execution_count": 61,
   "id": "72a58474",
   "metadata": {},
   "outputs": [
    {
     "ename": "ValueError",
     "evalue": "substring not found",
     "output_type": "error",
     "traceback": [
      "\u001b[1;31m---------------------------------------------------------------------------\u001b[0m",
      "\u001b[1;31mValueError\u001b[0m                                Traceback (most recent call last)",
      "Cell \u001b[1;32mIn[61], line 1\u001b[0m\n\u001b[1;32m----> 1\u001b[0m \u001b[38;5;124;43m'\u001b[39;49m\u001b[38;5;124;43mmy name is yash\u001b[39;49m\u001b[38;5;124;43m'\u001b[39;49m\u001b[38;5;241;43m.\u001b[39;49m\u001b[43mindex\u001b[49m\u001b[43m(\u001b[49m\u001b[38;5;124;43m'\u001b[39;49m\u001b[38;5;124;43mx\u001b[39;49m\u001b[38;5;124;43m'\u001b[39;49m\u001b[43m)\u001b[49m\n",
      "\u001b[1;31mValueError\u001b[0m: substring not found"
     ]
    }
   ],
   "source": [
    "'my name is yash'.index('x')"
   ]
  },
  {
   "cell_type": "markdown",
   "id": "2a294df9",
   "metadata": {},
   "source": [
    "## endswith() / startswith()"
   ]
  },
  {
   "cell_type": "code",
   "execution_count": 62,
   "id": "abfa8656",
   "metadata": {},
   "outputs": [
    {
     "data": {
      "text/plain": [
       "True"
      ]
     },
     "execution_count": 62,
     "metadata": {},
     "output_type": "execute_result"
    }
   ],
   "source": [
    "'my name is yash'.endswith('sh')"
   ]
  },
  {
   "cell_type": "code",
   "execution_count": 63,
   "id": "b241d4ae",
   "metadata": {},
   "outputs": [
    {
     "data": {
      "text/plain": [
       "False"
      ]
     },
     "execution_count": 63,
     "metadata": {},
     "output_type": "execute_result"
    }
   ],
   "source": [
    "'my name is yash'.endswith('sho')"
   ]
  },
  {
   "cell_type": "code",
   "execution_count": 64,
   "id": "85c50ea8",
   "metadata": {},
   "outputs": [
    {
     "data": {
      "text/plain": [
       "True"
      ]
     },
     "execution_count": 64,
     "metadata": {},
     "output_type": "execute_result"
    }
   ],
   "source": [
    "'my name is yash'.startswith('my')"
   ]
  },
  {
   "cell_type": "markdown",
   "id": "f0580159",
   "metadata": {},
   "source": [
    "## format()"
   ]
  },
  {
   "cell_type": "code",
   "execution_count": 66,
   "id": "d8b3b7b3",
   "metadata": {},
   "outputs": [
    {
     "data": {
      "text/plain": [
       "'Hi my name is male and I am a yash'"
      ]
     },
     "execution_count": 66,
     "metadata": {},
     "output_type": "execute_result"
    }
   ],
   "source": [
    "name = 'yash'\n",
    "gender = 'male'\n",
    "\n",
    "'Hi my name is {} and I am a {}'.format(gender,name)"
   ]
  },
  {
   "cell_type": "code",
   "execution_count": 67,
   "id": "40ec3e13",
   "metadata": {},
   "outputs": [
    {
     "data": {
      "text/plain": [
       "'Hi my name is yash and I am a male'"
      ]
     },
     "execution_count": 67,
     "metadata": {},
     "output_type": "execute_result"
    }
   ],
   "source": [
    "'Hi my name is {1} and I am a {0}'.format(gender,name)"
   ]
  },
  {
   "cell_type": "markdown",
   "id": "b6a3ddfa",
   "metadata": {},
   "source": [
    "## isalnum() / isalpha() / isdigit() / isidentifier()"
   ]
  },
  {
   "cell_type": "code",
   "execution_count": 69,
   "id": "1ffda865",
   "metadata": {},
   "outputs": [
    {
     "data": {
      "text/plain": [
       "True"
      ]
     },
     "execution_count": 69,
     "metadata": {},
     "output_type": "execute_result"
    }
   ],
   "source": [
    "'yash1234'.isalnum()\n",
    "# alphabetNumeric"
   ]
  },
  {
   "cell_type": "code",
   "execution_count": 70,
   "id": "6849edb3",
   "metadata": {},
   "outputs": [
    {
     "data": {
      "text/plain": [
       "False"
      ]
     },
     "execution_count": 70,
     "metadata": {},
     "output_type": "execute_result"
    }
   ],
   "source": [
    "'yash1234%'.isalnum()"
   ]
  },
  {
   "cell_type": "code",
   "execution_count": 72,
   "id": "724aee60",
   "metadata": {},
   "outputs": [
    {
     "data": {
      "text/plain": [
       "False"
      ]
     },
     "execution_count": 72,
     "metadata": {},
     "output_type": "execute_result"
    }
   ],
   "source": [
    "'yash1234'.isalpha()"
   ]
  },
  {
   "cell_type": "code",
   "execution_count": 73,
   "id": "ceefd632",
   "metadata": {},
   "outputs": [
    {
     "data": {
      "text/plain": [
       "True"
      ]
     },
     "execution_count": 73,
     "metadata": {},
     "output_type": "execute_result"
    }
   ],
   "source": [
    "'yash'.isalpha()"
   ]
  },
  {
   "cell_type": "code",
   "execution_count": 75,
   "id": "bd03bb6f",
   "metadata": {},
   "outputs": [
    {
     "data": {
      "text/plain": [
       "True"
      ]
     },
     "execution_count": 75,
     "metadata": {},
     "output_type": "execute_result"
    }
   ],
   "source": [
    "'123'.isdigit()"
   ]
  },
  {
   "cell_type": "code",
   "execution_count": 76,
   "id": "96f9ea99",
   "metadata": {},
   "outputs": [
    {
     "data": {
      "text/plain": [
       "False"
      ]
     },
     "execution_count": 76,
     "metadata": {},
     "output_type": "execute_result"
    }
   ],
   "source": [
    "'123abc'.isdigit()"
   ]
  },
  {
   "cell_type": "code",
   "execution_count": 77,
   "id": "c5ae3f74",
   "metadata": {},
   "outputs": [
    {
     "data": {
      "text/plain": [
       "False"
      ]
     },
     "execution_count": 77,
     "metadata": {},
     "output_type": "execute_result"
    }
   ],
   "source": [
    "'1name'.isidentifier()"
   ]
  },
  {
   "cell_type": "code",
   "execution_count": 78,
   "id": "c74906e0",
   "metadata": {},
   "outputs": [
    {
     "data": {
      "text/plain": [
       "True"
      ]
     },
     "execution_count": 78,
     "metadata": {},
     "output_type": "execute_result"
    }
   ],
   "source": [
    "'name1'.isidentifier()"
   ]
  },
  {
   "cell_type": "markdown",
   "id": "9248bcd5",
   "metadata": {},
   "source": [
    "## Split() / Join()"
   ]
  },
  {
   "cell_type": "code",
   "execution_count": 79,
   "id": "d95ea9dc",
   "metadata": {},
   "outputs": [
    {
     "data": {
      "text/plain": [
       "['Hi', 'my', 'name', 'is', 'yash']"
      ]
     },
     "execution_count": 79,
     "metadata": {},
     "output_type": "execute_result"
    }
   ],
   "source": [
    "'Hi my name is yash'.split()"
   ]
  },
  {
   "cell_type": "code",
   "execution_count": 80,
   "id": "04ce2a62",
   "metadata": {},
   "outputs": [
    {
     "data": {
      "text/plain": [
       "['H', ' my name ', 's yash']"
      ]
     },
     "execution_count": 80,
     "metadata": {},
     "output_type": "execute_result"
    }
   ],
   "source": [
    "'Hi my name is yash'.split('i')"
   ]
  },
  {
   "cell_type": "code",
   "execution_count": 81,
   "id": "d2fa8484",
   "metadata": {},
   "outputs": [
    {
     "data": {
      "text/plain": [
       "['Hi my name ', ' yash']"
      ]
     },
     "execution_count": 81,
     "metadata": {},
     "output_type": "execute_result"
    }
   ],
   "source": [
    "'Hi my name is yash'.split('is')"
   ]
  },
  {
   "cell_type": "code",
   "execution_count": 82,
   "id": "c7f88631",
   "metadata": {},
   "outputs": [
    {
     "data": {
      "text/plain": [
       "'Hi-my-name-is-yash'"
      ]
     },
     "execution_count": 82,
     "metadata": {},
     "output_type": "execute_result"
    }
   ],
   "source": [
    "\"-\".join(['Hi', 'my', 'name', 'is', 'yash'])"
   ]
  },
  {
   "cell_type": "markdown",
   "id": "5dcb991a",
   "metadata": {},
   "source": [
    "## Replace()"
   ]
  },
  {
   "cell_type": "code",
   "execution_count": 83,
   "id": "92b402f1",
   "metadata": {},
   "outputs": [
    {
     "data": {
      "text/plain": [
       "'hi my name is garg'"
      ]
     },
     "execution_count": 83,
     "metadata": {},
     "output_type": "execute_result"
    }
   ],
   "source": [
    "'hi my name is yash'.replace('yash','garg')"
   ]
  },
  {
   "cell_type": "markdown",
   "id": "1015973e",
   "metadata": {},
   "source": [
    "## Strip()"
   ]
  },
  {
   "cell_type": "code",
   "execution_count": 85,
   "id": "f0066d88",
   "metadata": {},
   "outputs": [
    {
     "data": {
      "text/plain": [
       "'yash'"
      ]
     },
     "execution_count": 85,
     "metadata": {},
     "output_type": "execute_result"
    }
   ],
   "source": [
    "'yash                  '.strip()"
   ]
  },
  {
   "cell_type": "markdown",
   "id": "a549911e",
   "metadata": {},
   "source": [
    "# Program\n",
    "## Find the length of a given string without using the len() function"
   ]
  },
  {
   "cell_type": "code",
   "execution_count": 1,
   "id": "0b6591b4",
   "metadata": {},
   "outputs": [
    {
     "name": "stdout",
     "output_type": "stream",
     "text": [
      "enter a string = hello world\n",
      "length of string is : 11\n"
     ]
    }
   ],
   "source": [
    "s = input('enter a string = ')\n",
    "\n",
    "counter = 0\n",
    "for i in s:\n",
    "    counter += 1\n",
    "    \n",
    "print('length of string is :',counter)"
   ]
  },
  {
   "cell_type": "markdown",
   "id": "904243f8",
   "metadata": {},
   "source": [
    "# Program\n",
    "## 1) Extract username from a given email. \n",
    "## 2) Eg if the email is yash1234@gmail.com \n",
    "## 3) then the username should be yash1234\n"
   ]
  },
  {
   "cell_type": "code",
   "execution_count": 5,
   "id": "1a4e3bbb",
   "metadata": {},
   "outputs": [
    {
     "name": "stdout",
     "output_type": "stream",
     "text": [
      "yash1234\n"
     ]
    }
   ],
   "source": [
    "email = 'yash1234@gmail.com'\n",
    "\n",
    "pos = email.index('@')\n",
    "print(email[0:pos])"
   ]
  },
  {
   "cell_type": "markdown",
   "id": "dab3dcb1",
   "metadata": {},
   "source": [
    "# Program\n",
    "## 1) Count the frequency of a particular character in a provided string. \n",
    "## 2) Eg 'hello how are you' is the string, the frequency of h in this string is 2."
   ]
  },
  {
   "cell_type": "code",
   "execution_count": 6,
   "id": "a0cd6519",
   "metadata": {},
   "outputs": [
    {
     "name": "stdout",
     "output_type": "stream",
     "text": [
      "enter the string = hello how are you\n",
      "what would like to search for = h\n",
      "frequency : 2\n"
     ]
    }
   ],
   "source": [
    "s = input('enter the string = ')\n",
    "term = input('what would like to search for = ')\n",
    "\n",
    "counter = 0\n",
    "for i in s:\n",
    "    if i == term:\n",
    "        counter += 1\n",
    "        \n",
    "print('frequency :',counter)"
   ]
  },
  {
   "cell_type": "markdown",
   "id": "58ad8a49",
   "metadata": {},
   "source": [
    "# Program\n",
    "## Write a program which can remove a particular character from a string."
   ]
  },
  {
   "cell_type": "code",
   "execution_count": 7,
   "id": "43f40682",
   "metadata": {},
   "outputs": [
    {
     "name": "stdout",
     "output_type": "stream",
     "text": [
      "enter the string = yash\n",
      "what would like to remove for = a\n",
      "ysh\n"
     ]
    }
   ],
   "source": [
    "s = input('enter the string = ')\n",
    "term = input('what would like to remove for = ')\n",
    "\n",
    "result = ''\n",
    "\n",
    "for i in s:\n",
    "    if i != term:\n",
    "        result += i\n",
    "        \n",
    "print(result)"
   ]
  },
  {
   "cell_type": "markdown",
   "id": "b4c42818",
   "metadata": {},
   "source": [
    "# Program\n",
    "## Write a program that can check whether a given string is palindrome or not."
   ]
  },
  {
   "cell_type": "code",
   "execution_count": 8,
   "id": "483eeb21",
   "metadata": {},
   "outputs": [
    {
     "name": "stdout",
     "output_type": "stream",
     "text": [
      "enter the string = racecar\n",
      "Palindrome\n"
     ]
    }
   ],
   "source": [
    "s = input('enter the string = ')\n",
    "\n",
    "flag = True\n",
    "for i in range(0,len(s)//2):\n",
    "    if s[i] != s[len(s)  - i - 1]:\n",
    "        flag = False\n",
    "        print('Palindrome')\n",
    "        break\n",
    "        \n",
    "if flag:\n",
    "    print('Palindrome')"
   ]
  },
  {
   "cell_type": "markdown",
   "id": "28fdb5ac",
   "metadata": {},
   "source": [
    "# Program\n",
    "## # Write a program to count the number of words in a string without split()"
   ]
  },
  {
   "cell_type": "code",
   "execution_count": 10,
   "id": "7ed512fa",
   "metadata": {},
   "outputs": [
    {
     "name": "stdout",
     "output_type": "stream",
     "text": [
      "enter the string = hello how are you\n",
      "['hello', 'how', 'are']\n",
      "['hello', 'how', 'are', 'you']\n"
     ]
    }
   ],
   "source": [
    "s = input('enter the string = ')\n",
    "\n",
    "temp = ''\n",
    "L = []\n",
    "for i in s:\n",
    "    if i != ' ':\n",
    "        temp += i\n",
    "    else :\n",
    "        L.append(temp)\n",
    "        temp = ''\n",
    "        \n",
    "print(L)\n",
    "\n",
    "L.append(temp)\n",
    "print(L)"
   ]
  },
  {
   "cell_type": "markdown",
   "id": "3a642643",
   "metadata": {},
   "source": [
    "# Program\n",
    "## Write a python program to convert a string to title case without using the title()"
   ]
  },
  {
   "cell_type": "code",
   "execution_count": 11,
   "id": "262ac210",
   "metadata": {},
   "outputs": [
    {
     "name": "stdout",
     "output_type": "stream",
     "text": [
      "enter the string = hi how are you\n",
      "['Hi', 'How', 'Are', 'You']\n",
      "Hi How Are You\n"
     ]
    }
   ],
   "source": [
    "s = input('enter the string = ')\n",
    "\n",
    "L = []\n",
    "for i in s.split():\n",
    "    L.append(i[0].upper() + i[1:].lower())\n",
    "    \n",
    "print(L)\n",
    "print(\" \".join(L))"
   ]
  },
  {
   "cell_type": "markdown",
   "id": "f605f12d",
   "metadata": {},
   "source": [
    "# Program\n",
    "## Write a program that can convert an integer to string."
   ]
  },
  {
   "cell_type": "code",
   "execution_count": 12,
   "id": "ca81d720",
   "metadata": {},
   "outputs": [
    {
     "name": "stdout",
     "output_type": "stream",
     "text": [
      "enter the number = 6579\n",
      "6579\n",
      "<class 'str'>\n"
     ]
    }
   ],
   "source": [
    "number = int(input('enter the number = '))\n",
    "\n",
    "digits = '0123456789'\n",
    "result = ''\n",
    "while number != 0:\n",
    "    result = digits[number % 10] + result\n",
    "    number //= 10\n",
    "    \n",
    "print(result)\n",
    "print(type(result))"
   ]
  },
  {
   "cell_type": "markdown",
   "id": "8925162c",
   "metadata": {},
   "source": [
    "# *******************************************************************************************"
   ]
  },
  {
   "cell_type": "markdown",
   "id": "383b8603",
   "metadata": {},
   "source": [
    "# Task 1\n",
    "## Write a program that will take a decimal number as input and prints out the binary equivalent of the number"
   ]
  },
  {
   "cell_type": "code",
   "execution_count": 1,
   "id": "fdd491e3",
   "metadata": {},
   "outputs": [
    {
     "name": "stdout",
     "output_type": "stream",
     "text": [
      "enter the number = 17\n",
      "10001"
     ]
    }
   ],
   "source": [
    "n = int(input('enter the number = '))\n",
    "\n",
    "binary = []\n",
    "while n > 0:\n",
    "    binary.append(n % 2)\n",
    "    n //= 2\n",
    "    \n",
    "for i in binary[::-1]:\n",
    "    print(i,end='')"
   ]
  },
  {
   "cell_type": "markdown",
   "id": "aac98411",
   "metadata": {},
   "source": [
    "# Task 2\n",
    "## Write a program that will take 2 numbers as input and prints the LCM and HCF of those 2 numbers"
   ]
  },
  {
   "cell_type": "code",
   "execution_count": 2,
   "id": "70a1f457",
   "metadata": {},
   "outputs": [
    {
     "name": "stdout",
     "output_type": "stream",
     "text": [
      "enter 1st number = 15\n",
      "enter 2nd number = 20\n",
      "LCM : 60\n",
      "HCF : 5\n"
     ]
    }
   ],
   "source": [
    "x = int(input('enter 1st number = '))\n",
    "y = int(input('enter 2nd number = '))\n",
    "\n",
    "# LCM\n",
    "if x > y:\n",
    "    greater = x\n",
    "else:\n",
    "    greater = y\n",
    "    \n",
    "while True:\n",
    "    if (greater % x == 0) and (greater % y == 0):\n",
    "        lcm = greater\n",
    "        break\n",
    "        \n",
    "    greater += 1\n",
    "    \n",
    "print('LCM :',lcm)\n",
    "    \n",
    "# HCF\n",
    "if x < y:\n",
    "    smaller = x\n",
    "else:\n",
    "    smaller = y\n",
    "    \n",
    "for i in range(smaller,0,-1):\n",
    "    if (x % i == 0) and (y % i == 0):\n",
    "        hcf = i\n",
    "        break\n",
    "\n",
    "print('HCF :',hcf)"
   ]
  },
  {
   "cell_type": "markdown",
   "id": "5a7a02f4",
   "metadata": {},
   "source": [
    "# Task 3\n",
    "## Given a string create short form ofthe string from Initial character. Short form should be capitalised.\n",
    "\n",
    "Example:\n",
    "\n",
    "`Input:`\n",
    "```\n",
    "Lage Raho Munna Bhai\n",
    "```\n",
    "\n",
    "`Output:`\n",
    "```\n",
    "LRMB\n",
    "```"
   ]
  },
  {
   "cell_type": "code",
   "execution_count": 3,
   "id": "cd62459b",
   "metadata": {},
   "outputs": [
    {
     "name": "stdout",
     "output_type": "stream",
     "text": [
      "LRMB\n"
     ]
    }
   ],
   "source": [
    "inp = 'Lage Raho Munna Bhai'\n",
    "res = ''\n",
    "\n",
    "for i in inp.split():\n",
    "    res = res + i[0].upper()\n",
    "\n",
    "print(res)"
   ]
  },
  {
   "cell_type": "markdown",
   "id": "f99ecbc6",
   "metadata": {},
   "source": [
    "# Task 4\n",
    "## Append second string in the middle of first string\n",
    "\n",
    "`Input:`\n",
    "```\n",
    "innovative\n",
    "data\n",
    "```\n",
    "`Output`:\n",
    "\n",
    "```\n",
    "innovdataative\n",
    "```"
   ]
  },
  {
   "cell_type": "code",
   "execution_count": 4,
   "id": "4e3de16b",
   "metadata": {},
   "outputs": [
    {
     "name": "stdout",
     "output_type": "stream",
     "text": [
      "enter the 1st string = innovative\n",
      "enter the 2nd string = data\n",
      "innovdataative\n"
     ]
    }
   ],
   "source": [
    "s1 = input('enter the 1st string = ')\n",
    "s2 = input('enter the 2nd string = ')\n",
    "\n",
    "print(s1[0:len(s1)//2] + s2 + s1[len(s1)//2:])"
   ]
  },
  {
   "cell_type": "markdown",
   "id": "038a279b",
   "metadata": {},
   "source": [
    "# Task 5\n",
    "## Given string contains a combination of the lower and upper case letters. Write a program to arrange the characters of a string so that all lowercase letters should come first.\n",
    "\n",
    "Given:\n",
    "\n",
    "`str1 = PyNaTive`\n",
    "\n",
    "Expected Output:\n",
    "\n",
    "`yaivePNT`"
   ]
  },
  {
   "cell_type": "code",
   "execution_count": 5,
   "id": "94fbeb1b",
   "metadata": {},
   "outputs": [
    {
     "name": "stdout",
     "output_type": "stream",
     "text": [
      "yaivePyNaTive\n"
     ]
    }
   ],
   "source": [
    "s = 'PyNaTive'\n",
    "\n",
    "upper = ''\n",
    "lower = ''\n",
    "\n",
    "for i in s:\n",
    "    if i.islower():\n",
    "        lower += i\n",
    "    upper += i\n",
    "    \n",
    "print(lower + upper)"
   ]
  },
  {
   "cell_type": "markdown",
   "id": "a9a95f67",
   "metadata": {},
   "source": [
    "# Task 6\n",
    "## Take a alphanumeric string input and print the sum and average of the digits that appear in the string, ignoring all other characters.\n",
    "\n",
    "Input:\n",
    "\n",
    "`hel123O4every093`\n",
    "\n",
    "Output:\n",
    "\n",
    "```\n",
    "Sum: 22\n",
    "Avg: 3.14\n",
    "```"
   ]
  },
  {
   "cell_type": "code",
   "execution_count": 6,
   "id": "b1f8d82c",
   "metadata": {},
   "outputs": [
    {
     "name": "stdout",
     "output_type": "stream",
     "text": [
      "3.142857142857143\n"
     ]
    }
   ],
   "source": [
    "s = 'hel123O4every093'\n",
    "\n",
    "sum = 0\n",
    "count = 0\n",
    "\n",
    "for i in s:\n",
    "    if i.isdigit():\n",
    "        sum = sum + int(i)\n",
    "        count += 1\n",
    "        \n",
    "print(sum/count)"
   ]
  },
  {
   "cell_type": "markdown",
   "id": "b0838998",
   "metadata": {},
   "source": [
    "# Task 7\n",
    "## Removal of all characters from a string except integers\n",
    "`Given:`\n",
    "\n",
    "```\n",
    "str1 = 'I am 25 years and 10 months old'\n",
    "```\n",
    "`Expected Output:`\n",
    "```\n",
    "2510\n",
    "```"
   ]
  },
  {
   "cell_type": "code",
   "execution_count": 7,
   "id": "3a690999",
   "metadata": {},
   "outputs": [
    {
     "name": "stdout",
     "output_type": "stream",
     "text": [
      "2510\n"
     ]
    }
   ],
   "source": [
    "s = 'I am 25 years and 10 months old'\n",
    "res = ''\n",
    "\n",
    "for i in s:\n",
    "    if i.isdigit():\n",
    "        res += i\n",
    "        \n",
    "print(res)"
   ]
  },
  {
   "cell_type": "markdown",
   "id": "2e6bda15",
   "metadata": {},
   "source": [
    "# Task 8\n",
    "## Check whether the string is Symmetrical.\n",
    "\n",
    "**Statement:** Given a string. the task is to check if the string is symmetrical or not. A string is said to be symmetrical if both the halves of the string are the same.\n",
    "\n",
    "`Input`\n",
    "\n",
    "```bash\n",
    "khokho\n",
    "```\n",
    "\n",
    "`Output`\n",
    "\n",
    "```bash\n",
    "The entered string is symmetrical\n",
    "```"
   ]
  },
  {
   "cell_type": "code",
   "execution_count": 8,
   "id": "0542a21e",
   "metadata": {},
   "outputs": [
    {
     "name": "stdout",
     "output_type": "stream",
     "text": [
      "enter the string = madam\n",
      "not symmetrical\n"
     ]
    }
   ],
   "source": [
    "s = input('enter the string = ')\n",
    "\n",
    "if len(s)%2 == 0:\n",
    "    s1 = s[0:len(s)//2]\n",
    "    s2 = s[len(s)//2:]\n",
    "else:\n",
    "    s1 = s[0:len(s)//2]\n",
    "    s2 = s[len(s)//2 + 1:]\n",
    "    \n",
    "if s1 == s2:\n",
    "    print('symmetrical')\n",
    "else:\n",
    "    print('not symmetrical')"
   ]
  },
  {
   "cell_type": "markdown",
   "id": "26d553ef",
   "metadata": {},
   "source": [
    "# Task 9\n",
    "## Reverse words in a given String\n",
    "\n",
    "**Statement:** We are given a string and we need to reverse words of a given string.\n",
    "\n",
    "**Example 1:**\n",
    "\n",
    "`Input:`\n",
    "\n",
    "```bash\n",
    "geeks quiz practice code\n",
    "```\n",
    "\n",
    "`Output:`\n",
    "\n",
    "```bash\n",
    "code practice quiz geeks\n",
    "```\n",
    "\n",
    "**Example 2:**\n",
    "\n",
    "`Input:`\n",
    "\n",
    "```bash\n",
    "my name is yash\n",
    "```\n",
    "\n",
    "`Output:`\n",
    "\n",
    "```bash\n",
    "yash is name my\n",
    "```"
   ]
  },
  {
   "cell_type": "code",
   "execution_count": 9,
   "id": "7c094483",
   "metadata": {},
   "outputs": [
    {
     "name": "stdout",
     "output_type": "stream",
     "text": [
      "code practice quiz geeks\n"
     ]
    }
   ],
   "source": [
    "s = 'geeks quiz practice code'\n",
    "\n",
    "L = []\n",
    "for i in s.split():\n",
    "    L.append(i)\n",
    "    \n",
    "L = L[::-1]\n",
    "print(' '.join(L))"
   ]
  },
  {
   "cell_type": "markdown",
   "id": "ddac4409",
   "metadata": {},
   "source": [
    "# Task 10\n",
    "## Find uncommon words from two Strings.\n",
    "\n",
    "**Statement:** Given two sentences as strings **A** and **B**. The task is to return a list of all uncommon words. A word is uncommon if it appears exactly once in any one of the sentences, and does not appear in the other sentence. Note: A sentence is a string of space-separated words. Each word consists only of lowercase letters.\n",
    "\n",
    "`Input:`\n",
    "\n",
    "```bash\n",
    "A = \"apple banana mango\" \n",
    "B = \"banana fruits mango\"\n",
    "```\n",
    "\n",
    "`Output:`\n",
    "\n",
    "```bash\n",
    "['apple', 'fruits']\n",
    "```"
   ]
  },
  {
   "cell_type": "code",
   "execution_count": 10,
   "id": "91ce8721",
   "metadata": {},
   "outputs": [
    {
     "name": "stdout",
     "output_type": "stream",
     "text": [
      "['apple', 'fruits', 'orange']\n"
     ]
    }
   ],
   "source": [
    "A = \"apple banana mango\"\n",
    "B = \"banana fruits mango orange\"\n",
    "\n",
    "L = []\n",
    "\n",
    "for i in A.split():\n",
    "    if i not in B:\n",
    "        L.append(i)\n",
    "        \n",
    "for j in B.split():\n",
    "    if j not in A:\n",
    "        L.append(j)\n",
    "        \n",
    "print(L)"
   ]
  },
  {
   "cell_type": "markdown",
   "id": "18dcabfa",
   "metadata": {},
   "source": [
    "# Task 11\n",
    "## Word location in String.\n",
    "\n",
    "**Statement:** Find a location of a word in a given sentence.\n",
    "\n",
    "`Input:`\n",
    "\n",
    "**Sentence:** We can learn python programming language.\n",
    "\n",
    "**word:** python\n",
    "\n",
    "`Output:`\n",
    "\n",
    "```bash\n",
    "Location of the word is 7.\n",
    "```\n",
    "\n",
    "Note- Don't use index/find functions"
   ]
  },
  {
   "cell_type": "code",
   "execution_count": 11,
   "id": "161f0229",
   "metadata": {},
   "outputs": [
    {
     "name": "stdout",
     "output_type": "stream",
     "text": [
      "4\n"
     ]
    }
   ],
   "source": [
    "s = 'We can learn python programming language'\n",
    "word = 'python'\n",
    "\n",
    "pos = 0\n",
    "for i in s.split():\n",
    "    pos += 1\n",
    "    if i == word:\n",
    "        break\n",
    "    \n",
    "print(pos)"
   ]
  },
  {
   "cell_type": "markdown",
   "id": "e8d82213",
   "metadata": {},
   "source": [
    "# Task 12\n",
    "## Write a program that can remove all the duplicate characters from a string. User will provide the input."
   ]
  },
  {
   "cell_type": "code",
   "execution_count": 12,
   "id": "acd50abc",
   "metadata": {},
   "outputs": [
    {
     "name": "stdout",
     "output_type": "stream",
     "text": [
      "abcdef\n"
     ]
    }
   ],
   "source": [
    "s = 'aaaabbbbbccccdddeeeeffff'\n",
    "\n",
    "res = ''\n",
    "for i in s:\n",
    "    if i not in res:\n",
    "        res += i\n",
    "        \n",
    "print(res)"
   ]
  }
 ],
 "metadata": {
  "kernelspec": {
   "display_name": "Python 3 (ipykernel)",
   "language": "python",
   "name": "python3"
  },
  "language_info": {
   "codemirror_mode": {
    "name": "ipython",
    "version": 3
   },
   "file_extension": ".py",
   "mimetype": "text/x-python",
   "name": "python",
   "nbconvert_exporter": "python",
   "pygments_lexer": "ipython3",
   "version": "3.10.9"
  }
 },
 "nbformat": 4,
 "nbformat_minor": 5
}
