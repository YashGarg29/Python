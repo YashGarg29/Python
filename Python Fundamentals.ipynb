{
 "cells": [
  {
   "cell_type": "markdown",
   "id": "2e794686",
   "metadata": {},
   "source": [
    "## 1. Python Output"
   ]
  },
  {
   "cell_type": "markdown",
   "id": "6b4d46f6",
   "metadata": {},
   "source": [
    "#### Python is a Case Sensitive language"
   ]
  },
  {
   "cell_type": "code",
   "execution_count": 1,
   "id": "0b92d1ec",
   "metadata": {},
   "outputs": [
    {
     "name": "stdout",
     "output_type": "stream",
     "text": [
      "Hello World\n"
     ]
    }
   ],
   "source": [
    "print('Hello World')"
   ]
  },
  {
   "cell_type": "code",
   "execution_count": 2,
   "id": "78790251",
   "metadata": {},
   "outputs": [
    {
     "name": "stdout",
     "output_type": "stream",
     "text": [
      "salman khan\n"
     ]
    }
   ],
   "source": [
    "print('salman khan')"
   ]
  },
  {
   "cell_type": "code",
   "execution_count": 3,
   "id": "d61d9982",
   "metadata": {
    "scrolled": true
   },
   "outputs": [
    {
     "ename": "SyntaxError",
     "evalue": "invalid syntax. Perhaps you forgot a comma? (1115953987.py, line 1)",
     "output_type": "error",
     "traceback": [
      "\u001b[1;36m  Cell \u001b[1;32mIn[3], line 1\u001b[1;36m\u001b[0m\n\u001b[1;33m    print(salman khan)\u001b[0m\n\u001b[1;37m          ^\u001b[0m\n\u001b[1;31mSyntaxError\u001b[0m\u001b[1;31m:\u001b[0m invalid syntax. Perhaps you forgot a comma?\n"
     ]
    }
   ],
   "source": [
    "print(salman khan)"
   ]
  },
  {
   "cell_type": "code",
   "execution_count": 4,
   "id": "e4e328b6",
   "metadata": {},
   "outputs": [
    {
     "name": "stdout",
     "output_type": "stream",
     "text": [
      "7\n"
     ]
    }
   ],
   "source": [
    "print(7)"
   ]
  },
  {
   "cell_type": "code",
   "execution_count": 5,
   "id": "5cb616fa",
   "metadata": {},
   "outputs": [
    {
     "name": "stdout",
     "output_type": "stream",
     "text": [
      "1.3\n"
     ]
    }
   ],
   "source": [
    "print(1.3)"
   ]
  },
  {
   "cell_type": "code",
   "execution_count": 6,
   "id": "31483154",
   "metadata": {},
   "outputs": [
    {
     "name": "stdout",
     "output_type": "stream",
     "text": [
      "True\n"
     ]
    }
   ],
   "source": [
    "print(True)"
   ]
  },
  {
   "cell_type": "code",
   "execution_count": 7,
   "id": "5f9b6fa5",
   "metadata": {},
   "outputs": [
    {
     "name": "stdout",
     "output_type": "stream",
     "text": [
      "Hello 1 4.5 True\n"
     ]
    }
   ],
   "source": [
    "print('Hello',1,4.5,True)"
   ]
  },
  {
   "cell_type": "code",
   "execution_count": 8,
   "id": "2d1152c8",
   "metadata": {},
   "outputs": [
    {
     "name": "stdout",
     "output_type": "stream",
     "text": [
      "Hello/1/4.5/True\n"
     ]
    }
   ],
   "source": [
    "print('Hello',1,4.5,True,sep='/')"
   ]
  },
  {
   "cell_type": "code",
   "execution_count": 9,
   "id": "0aab2649",
   "metadata": {},
   "outputs": [
    {
     "name": "stdout",
     "output_type": "stream",
     "text": [
      "hello\n",
      "world\n"
     ]
    }
   ],
   "source": [
    "print('hello')\n",
    "print('world')"
   ]
  },
  {
   "cell_type": "code",
   "execution_count": 10,
   "id": "5b8ca58d",
   "metadata": {},
   "outputs": [
    {
     "name": "stdout",
     "output_type": "stream",
     "text": [
      "hello-world\n"
     ]
    }
   ],
   "source": [
    "print('hello',end='-')\n",
    "print('world')"
   ]
  },
  {
   "cell_type": "markdown",
   "id": "0c5cb052",
   "metadata": {},
   "source": [
    "## 2. Data Types"
   ]
  },
  {
   "cell_type": "markdown",
   "id": "2028c7f7",
   "metadata": {},
   "source": [
    "### 1) Integer"
   ]
  },
  {
   "cell_type": "code",
   "execution_count": 13,
   "id": "d86b34b5",
   "metadata": {},
   "outputs": [
    {
     "name": "stdout",
     "output_type": "stream",
     "text": [
      "8\n",
      "1e+308\n",
      "inf\n"
     ]
    }
   ],
   "source": [
    "print(8)\n",
    "### 1*10^308\n",
    "print(1e308)\n",
    "print(1e309)"
   ]
  },
  {
   "cell_type": "markdown",
   "id": "f89326ba",
   "metadata": {},
   "source": [
    "### 2) Float / Decimal"
   ]
  },
  {
   "cell_type": "code",
   "execution_count": 14,
   "id": "3d1e227b",
   "metadata": {},
   "outputs": [
    {
     "name": "stdout",
     "output_type": "stream",
     "text": [
      "8.55\n",
      "1.7e+308\n",
      "inf\n"
     ]
    }
   ],
   "source": [
    "print(8.55)\n",
    "## print(1.7e308)\n",
    "print(1.7e308)\n",
    "print(1.7e309)"
   ]
  },
  {
   "cell_type": "markdown",
   "id": "6eded6ed",
   "metadata": {},
   "source": [
    "### 3) Boolean"
   ]
  },
  {
   "cell_type": "code",
   "execution_count": 16,
   "id": "c18a56e9",
   "metadata": {},
   "outputs": [
    {
     "name": "stdout",
     "output_type": "stream",
     "text": [
      "True\n",
      "False\n"
     ]
    }
   ],
   "source": [
    "print(True)\n",
    "print(False)"
   ]
  },
  {
   "cell_type": "markdown",
   "id": "f33edb5e",
   "metadata": {},
   "source": [
    "### 4) String / Text"
   ]
  },
  {
   "cell_type": "code",
   "execution_count": 17,
   "id": "e10307e6",
   "metadata": {},
   "outputs": [
    {
     "name": "stdout",
     "output_type": "stream",
     "text": [
      "Hello World\n"
     ]
    }
   ],
   "source": [
    "print('Hello World')"
   ]
  },
  {
   "cell_type": "markdown",
   "id": "88c74509",
   "metadata": {},
   "source": [
    "### 5) Complex Number"
   ]
  },
  {
   "cell_type": "code",
   "execution_count": 18,
   "id": "00b30075",
   "metadata": {},
   "outputs": [
    {
     "name": "stdout",
     "output_type": "stream",
     "text": [
      "(5+6j)\n"
     ]
    }
   ],
   "source": [
    "print(5+6j) \n",
    "# 5 is Real number and 6j is Imaginary number"
   ]
  },
  {
   "cell_type": "markdown",
   "id": "6c5376e5",
   "metadata": {},
   "source": [
    "### 6) List"
   ]
  },
  {
   "cell_type": "code",
   "execution_count": 19,
   "id": "64e753cd",
   "metadata": {},
   "outputs": [
    {
     "name": "stdout",
     "output_type": "stream",
     "text": [
      "[1, 2, 3, 4]\n"
     ]
    }
   ],
   "source": [
    "# List -> Java -> Array\n",
    "print([1,2,3,4])"
   ]
  },
  {
   "cell_type": "markdown",
   "id": "ba0f045e",
   "metadata": {},
   "source": [
    "### 7) Tuple"
   ]
  },
  {
   "cell_type": "code",
   "execution_count": 20,
   "id": "589ad9e5",
   "metadata": {},
   "outputs": [
    {
     "name": "stdout",
     "output_type": "stream",
     "text": [
      "(1, 2, 3, 4)\n"
     ]
    }
   ],
   "source": [
    "print((1,2,3,4))"
   ]
  },
  {
   "cell_type": "markdown",
   "id": "048ea051",
   "metadata": {},
   "source": [
    "### 8) Sets"
   ]
  },
  {
   "cell_type": "code",
   "execution_count": 21,
   "id": "93fd2f30",
   "metadata": {},
   "outputs": [
    {
     "name": "stdout",
     "output_type": "stream",
     "text": [
      "{1, 2, 3, 4}\n"
     ]
    }
   ],
   "source": [
    "print({1,2,3,4})"
   ]
  },
  {
   "cell_type": "markdown",
   "id": "88207c9b",
   "metadata": {},
   "source": [
    "### 9) Dictionary"
   ]
  },
  {
   "cell_type": "code",
   "execution_count": 22,
   "id": "f3adc586",
   "metadata": {
    "scrolled": true
   },
   "outputs": [
    {
     "name": "stdout",
     "output_type": "stream",
     "text": [
      "{'name': 'Yash', 'gender': 'Male', 'weight': 70}\n"
     ]
    }
   ],
   "source": [
    "print({'name':'Yash','gender':'Male','weight':70})"
   ]
  },
  {
   "cell_type": "markdown",
   "id": "34f24f10",
   "metadata": {},
   "source": [
    "## types()"
   ]
  },
  {
   "cell_type": "code",
   "execution_count": 23,
   "id": "7691373d",
   "metadata": {},
   "outputs": [
    {
     "data": {
      "text/plain": [
       "int"
      ]
     },
     "execution_count": 23,
     "metadata": {},
     "output_type": "execute_result"
    }
   ],
   "source": [
    "type(3)"
   ]
  },
  {
   "cell_type": "code",
   "execution_count": 24,
   "id": "b7adec95",
   "metadata": {},
   "outputs": [
    {
     "data": {
      "text/plain": [
       "float"
      ]
     },
     "execution_count": 24,
     "metadata": {},
     "output_type": "execute_result"
    }
   ],
   "source": [
    "type(2.3)"
   ]
  },
  {
   "cell_type": "code",
   "execution_count": 25,
   "id": "6aec3de0",
   "metadata": {},
   "outputs": [
    {
     "data": {
      "text/plain": [
       "str"
      ]
     },
     "execution_count": 25,
     "metadata": {},
     "output_type": "execute_result"
    }
   ],
   "source": [
    "type('hello')"
   ]
  },
  {
   "cell_type": "code",
   "execution_count": 26,
   "id": "5f286e6c",
   "metadata": {},
   "outputs": [
    {
     "data": {
      "text/plain": [
       "complex"
      ]
     },
     "execution_count": 26,
     "metadata": {},
     "output_type": "execute_result"
    }
   ],
   "source": [
    "type(5+6j)"
   ]
  },
  {
   "cell_type": "markdown",
   "id": "0f72586e",
   "metadata": {},
   "source": [
    "## 3. Variables"
   ]
  },
  {
   "cell_type": "markdown",
   "id": "4bbefc2c",
   "metadata": {},
   "source": [
    " Variables are the containers for future use"
   ]
  },
  {
   "cell_type": "markdown",
   "id": "918ddbc9",
   "metadata": {},
   "source": [
    "## C/C++\n",
    "int name = 'yash'\n",
    "\n",
    "print(name)\n",
    "\n",
    "## Python\n",
    "name = 'yash'\n",
    "\n",
    "print(name)"
   ]
  },
  {
   "cell_type": "code",
   "execution_count": 28,
   "id": "a17a61bf",
   "metadata": {},
   "outputs": [
    {
     "name": "stdout",
     "output_type": "stream",
     "text": [
      "yash\n",
      "11\n"
     ]
    }
   ],
   "source": [
    "name = 'yash'\n",
    "print(name)\n",
    "\n",
    "a = 5\n",
    "b = 6\n",
    "\n",
    "print(a + b)"
   ]
  },
  {
   "cell_type": "markdown",
   "id": "e4c74bd5",
   "metadata": {},
   "source": [
    "### Dynamic typing VS Static typing"
   ]
  },
  {
   "cell_type": "markdown",
   "id": "ba220c9f",
   "metadata": {},
   "source": [
    "#### Dynamic Typing (Python)\n",
    "a = 5\n",
    "#### Static Typing (C/C++,Java)\n",
    "int a = 5;"
   ]
  },
  {
   "cell_type": "markdown",
   "id": "1818c970",
   "metadata": {},
   "source": [
    "### Dynamic Binding vs Static Binding"
   ]
  },
  {
   "cell_type": "markdown",
   "id": "e311f5ba",
   "metadata": {},
   "source": [
    "#### Dynamic binding (Python)"
   ]
  },
  {
   "cell_type": "code",
   "execution_count": 29,
   "id": "ab0787ed",
   "metadata": {},
   "outputs": [
    {
     "name": "stdout",
     "output_type": "stream",
     "text": [
      "5\n",
      "yash\n"
     ]
    }
   ],
   "source": [
    "a = 5\n",
    "print(a)\n",
    "a = 'yash'\n",
    "print(a)"
   ]
  },
  {
   "cell_type": "markdown",
   "id": "50614626",
   "metadata": {},
   "source": [
    "#### Static Binding (C/C++, Java)"
   ]
  },
  {
   "cell_type": "markdown",
   "id": "6aade41f",
   "metadata": {},
   "source": [
    "int a = 5;\n",
    "in static binding, we can't store another data type"
   ]
  },
  {
   "cell_type": "markdown",
   "id": "0eb9d720",
   "metadata": {},
   "source": [
    "### Types to store multiple variables"
   ]
  },
  {
   "cell_type": "code",
   "execution_count": 30,
   "id": "ad1c6a93",
   "metadata": {},
   "outputs": [
    {
     "name": "stdout",
     "output_type": "stream",
     "text": [
      "1 2 3\n"
     ]
    }
   ],
   "source": [
    "a = 1\n",
    "b = 2\n",
    "c = 3\n",
    "print(a,b,c)"
   ]
  },
  {
   "cell_type": "code",
   "execution_count": 31,
   "id": "1b8c561d",
   "metadata": {},
   "outputs": [
    {
     "name": "stdout",
     "output_type": "stream",
     "text": [
      "1 2 3\n"
     ]
    }
   ],
   "source": [
    "a,b,c = 1,2,3\n",
    "print(a,b,c)"
   ]
  },
  {
   "cell_type": "code",
   "execution_count": 35,
   "id": "9ef2ab35",
   "metadata": {
    "scrolled": false
   },
   "outputs": [
    {
     "name": "stdout",
     "output_type": "stream",
     "text": [
      "5 5 5\n"
     ]
    }
   ],
   "source": [
    "a=b=c=5\n",
    "print(a,b,c)"
   ]
  },
  {
   "cell_type": "markdown",
   "id": "5eb8c34d",
   "metadata": {},
   "source": [
    "## 4. Keywords & Identifiers"
   ]
  },
  {
   "cell_type": "markdown",
   "id": "73e50e40",
   "metadata": {},
   "source": [
    "#### Compilation \n",
    "is a process where convert a code to Binary language(0,1)\n",
    "Java\n",
    "#### Interpretation\n",
    "is a process where convert a code to Binary language line by line\n",
    "Python, Javascript"
   ]
  },
  {
   "cell_type": "markdown",
   "id": "c01c4b04",
   "metadata": {},
   "source": [
    "### Keywords"
   ]
  },
  {
   "cell_type": "markdown",
   "id": "1392aa27",
   "metadata": {},
   "source": [
    "Keywords are the unique reserved words that cannot use as a variable\n",
    "In Python have 32 Keywords"
   ]
  },
  {
   "cell_type": "markdown",
   "id": "b9ab4b3b",
   "metadata": {},
   "source": [
    "### Identifiers"
   ]
  },
  {
   "cell_type": "markdown",
   "id": "2a64a609",
   "metadata": {},
   "source": [
    "1) Can't start with a digit\n",
    "1name = 'yash'\n",
    "\n",
    "name1 = 'yash'\n",
    "print(name1)"
   ]
  },
  {
   "cell_type": "markdown",
   "id": "101674d6",
   "metadata": {},
   "source": [
    "2) Can use special characters -> _,$\n",
    "\n",
    "$ = 'yash'"
   ]
  },
  {
   "cell_type": "markdown",
   "id": "7dd538fd",
   "metadata": {},
   "source": [
    "3) Identifiers cannot be keywords"
   ]
  },
  {
   "cell_type": "markdown",
   "id": "198c8eec",
   "metadata": {},
   "source": [
    "## 5. User Input"
   ]
  },
  {
   "cell_type": "code",
   "execution_count": 2,
   "id": "617ee615",
   "metadata": {},
   "outputs": [
    {
     "name": "stdout",
     "output_type": "stream",
     "text": [
      "Enter your nameYash Garg\n"
     ]
    },
    {
     "data": {
      "text/plain": [
       "'Yash Garg'"
      ]
     },
     "execution_count": 2,
     "metadata": {},
     "output_type": "execute_result"
    }
   ],
   "source": [
    "input('Enter your name')"
   ]
  },
  {
   "cell_type": "code",
   "execution_count": 21,
   "id": "9573887c",
   "metadata": {
    "scrolled": true
   },
   "outputs": [
    {
     "name": "stdout",
     "output_type": "stream",
     "text": [
      "Enter first number 56\n",
      "Enter second number 24\n",
      "80\n"
     ]
    }
   ],
   "source": [
    "# take input from users and store them in a variable\n",
    "fnum = input('Enter first number ')\n",
    "snum = input('Enter second number ')\n",
    "# Add the two variables\n",
    "result = int(fnum) + int(snum)\n",
    "# print the result\n",
    "print(result)"
   ]
  },
  {
   "cell_type": "markdown",
   "id": "3d73b614",
   "metadata": {},
   "source": [
    "## 6. Type Conversion"
   ]
  },
  {
   "cell_type": "markdown",
   "id": "4206212b",
   "metadata": {},
   "source": [
    "### 1) Implicit Type conversion"
   ]
  },
  {
   "cell_type": "code",
   "execution_count": 6,
   "id": "34343044",
   "metadata": {},
   "outputs": [
    {
     "name": "stdout",
     "output_type": "stream",
     "text": [
      "10.6\n",
      "<class 'int'> <class 'float'>\n"
     ]
    }
   ],
   "source": [
    "print(5 + 5.6)\n",
    "print(type(5), type(5.6))"
   ]
  },
  {
   "cell_type": "code",
   "execution_count": 7,
   "id": "62c4aca1",
   "metadata": {},
   "outputs": [
    {
     "ename": "TypeError",
     "evalue": "unsupported operand type(s) for +: 'int' and 'str'",
     "output_type": "error",
     "traceback": [
      "\u001b[1;31m---------------------------------------------------------------------------\u001b[0m",
      "\u001b[1;31mTypeError\u001b[0m                                 Traceback (most recent call last)",
      "Cell \u001b[1;32mIn[7], line 1\u001b[0m\n\u001b[1;32m----> 1\u001b[0m \u001b[38;5;28mprint\u001b[39m(\u001b[38;5;241;43m4\u001b[39;49m\u001b[43m \u001b[49m\u001b[38;5;241;43m+\u001b[39;49m\u001b[43m \u001b[49m\u001b[38;5;124;43m'\u001b[39;49m\u001b[38;5;124;43m4\u001b[39;49m\u001b[38;5;124;43m'\u001b[39;49m)\n",
      "\u001b[1;31mTypeError\u001b[0m: unsupported operand type(s) for +: 'int' and 'str'"
     ]
    }
   ],
   "source": [
    "print(4 + '4')"
   ]
  },
  {
   "cell_type": "markdown",
   "id": "4d4437de",
   "metadata": {},
   "source": [
    "### 2) Explicit type Conversion"
   ]
  },
  {
   "cell_type": "markdown",
   "id": "7cae7801",
   "metadata": {},
   "source": [
    "#### convert to int"
   ]
  },
  {
   "cell_type": "code",
   "execution_count": 10,
   "id": "c7cb7d61",
   "metadata": {},
   "outputs": [
    {
     "data": {
      "text/plain": [
       "4"
      ]
     },
     "execution_count": 10,
     "metadata": {},
     "output_type": "execute_result"
    }
   ],
   "source": [
    "int('4')"
   ]
  },
  {
   "cell_type": "code",
   "execution_count": 11,
   "id": "d3cab364",
   "metadata": {},
   "outputs": [
    {
     "data": {
      "text/plain": [
       "int"
      ]
     },
     "execution_count": 11,
     "metadata": {},
     "output_type": "execute_result"
    }
   ],
   "source": [
    "type(int('4'))"
   ]
  },
  {
   "cell_type": "code",
   "execution_count": 12,
   "id": "126aa49b",
   "metadata": {},
   "outputs": [
    {
     "data": {
      "text/plain": [
       "4"
      ]
     },
     "execution_count": 12,
     "metadata": {},
     "output_type": "execute_result"
    }
   ],
   "source": [
    "int(4.5)"
   ]
  },
  {
   "cell_type": "code",
   "execution_count": 13,
   "id": "128f345f",
   "metadata": {},
   "outputs": [
    {
     "data": {
      "text/plain": [
       "int"
      ]
     },
     "execution_count": 13,
     "metadata": {},
     "output_type": "execute_result"
    }
   ],
   "source": [
    "type(int(4.5))"
   ]
  },
  {
   "cell_type": "code",
   "execution_count": 14,
   "id": "b63f9947",
   "metadata": {},
   "outputs": [
    {
     "ename": "TypeError",
     "evalue": "int() argument must be a string, a bytes-like object or a real number, not 'complex'",
     "output_type": "error",
     "traceback": [
      "\u001b[1;31m---------------------------------------------------------------------------\u001b[0m",
      "\u001b[1;31mTypeError\u001b[0m                                 Traceback (most recent call last)",
      "Cell \u001b[1;32mIn[14], line 1\u001b[0m\n\u001b[1;32m----> 1\u001b[0m \u001b[38;5;28;43mint\u001b[39;49m\u001b[43m(\u001b[49m\u001b[38;5;241;43m4\u001b[39;49m\u001b[38;5;241;43m+\u001b[39;49m\u001b[38;5;241;43m5\u001b[39;49m\u001b[43mj\u001b[49m\u001b[43m)\u001b[49m\n",
      "\u001b[1;31mTypeError\u001b[0m: int() argument must be a string, a bytes-like object or a real number, not 'complex'"
     ]
    }
   ],
   "source": [
    "int(4+5j)"
   ]
  },
  {
   "cell_type": "code",
   "execution_count": 15,
   "id": "6974ddf5",
   "metadata": {},
   "outputs": [
    {
     "ename": "ValueError",
     "evalue": "invalid literal for int() with base 10: 'abc'",
     "output_type": "error",
     "traceback": [
      "\u001b[1;31m---------------------------------------------------------------------------\u001b[0m",
      "\u001b[1;31mValueError\u001b[0m                                Traceback (most recent call last)",
      "Cell \u001b[1;32mIn[15], line 1\u001b[0m\n\u001b[1;32m----> 1\u001b[0m \u001b[38;5;28;43mint\u001b[39;49m\u001b[43m(\u001b[49m\u001b[38;5;124;43m'\u001b[39;49m\u001b[38;5;124;43mabc\u001b[39;49m\u001b[38;5;124;43m'\u001b[39;49m\u001b[43m)\u001b[49m\n",
      "\u001b[1;31mValueError\u001b[0m: invalid literal for int() with base 10: 'abc'"
     ]
    }
   ],
   "source": [
    "int('abc')"
   ]
  },
  {
   "cell_type": "markdown",
   "id": "0f7ae4bf",
   "metadata": {},
   "source": [
    "#### Convert to str"
   ]
  },
  {
   "cell_type": "code",
   "execution_count": 16,
   "id": "13640b6a",
   "metadata": {},
   "outputs": [
    {
     "data": {
      "text/plain": [
       "'5'"
      ]
     },
     "execution_count": 16,
     "metadata": {},
     "output_type": "execute_result"
    }
   ],
   "source": [
    "str(5)"
   ]
  },
  {
   "cell_type": "code",
   "execution_count": 17,
   "id": "28d263eb",
   "metadata": {},
   "outputs": [
    {
     "data": {
      "text/plain": [
       "'5.0'"
      ]
     },
     "execution_count": 17,
     "metadata": {},
     "output_type": "execute_result"
    }
   ],
   "source": [
    "str(5.0)"
   ]
  },
  {
   "cell_type": "code",
   "execution_count": 20,
   "id": "343c75ac",
   "metadata": {},
   "outputs": [
    {
     "data": {
      "text/plain": [
       "'(4+5j)'"
      ]
     },
     "execution_count": 20,
     "metadata": {},
     "output_type": "execute_result"
    }
   ],
   "source": [
    "str(4+5j)"
   ]
  },
  {
   "cell_type": "markdown",
   "id": "adf17971",
   "metadata": {},
   "source": [
    "#### Convert to float"
   ]
  },
  {
   "cell_type": "code",
   "execution_count": 19,
   "id": "a59f80e5",
   "metadata": {},
   "outputs": [
    {
     "data": {
      "text/plain": [
       "4.0"
      ]
     },
     "execution_count": 19,
     "metadata": {},
     "output_type": "execute_result"
    }
   ],
   "source": [
    "float(4)"
   ]
  },
  {
   "cell_type": "markdown",
   "id": "06fd8923",
   "metadata": {},
   "source": [
    "## 7. Literals"
   ]
  },
  {
   "cell_type": "markdown",
   "id": "43edd714",
   "metadata": {},
   "source": [
    "### Decimal Literals"
   ]
  },
  {
   "cell_type": "code",
   "execution_count": 26,
   "id": "fe64ac72",
   "metadata": {},
   "outputs": [
    {
     "name": "stdout",
     "output_type": "stream",
     "text": [
      "100\n"
     ]
    }
   ],
   "source": [
    "a = 100\n",
    "print(a)"
   ]
  },
  {
   "cell_type": "markdown",
   "id": "e460495c",
   "metadata": {},
   "source": [
    "### Binary Literals"
   ]
  },
  {
   "cell_type": "code",
   "execution_count": 27,
   "id": "ec99f3a3",
   "metadata": {},
   "outputs": [
    {
     "name": "stdout",
     "output_type": "stream",
     "text": [
      "10\n"
     ]
    }
   ],
   "source": [
    "b = 0b1010\n",
    "print(b)"
   ]
  },
  {
   "cell_type": "markdown",
   "id": "ca781b70",
   "metadata": {},
   "source": [
    "### Octal Literals"
   ]
  },
  {
   "cell_type": "code",
   "execution_count": 28,
   "id": "b4e4ba2b",
   "metadata": {},
   "outputs": [
    {
     "name": "stdout",
     "output_type": "stream",
     "text": [
      "200\n"
     ]
    }
   ],
   "source": [
    "c = 0o310\n",
    "print(c)"
   ]
  },
  {
   "cell_type": "markdown",
   "id": "2b1dd3e7",
   "metadata": {},
   "source": [
    "### Hexadecimal Literals"
   ]
  },
  {
   "cell_type": "code",
   "execution_count": 29,
   "id": "06c11f9f",
   "metadata": {},
   "outputs": [
    {
     "name": "stdout",
     "output_type": "stream",
     "text": [
      "300\n"
     ]
    }
   ],
   "source": [
    "d = 0x12c\n",
    "print(d)"
   ]
  },
  {
   "cell_type": "markdown",
   "id": "b31b7a1a",
   "metadata": {},
   "source": [
    "### Float Literals"
   ]
  },
  {
   "cell_type": "code",
   "execution_count": 30,
   "id": "8e8a46b8",
   "metadata": {},
   "outputs": [
    {
     "data": {
      "text/plain": [
       "10.5"
      ]
     },
     "execution_count": 30,
     "metadata": {},
     "output_type": "execute_result"
    }
   ],
   "source": [
    "float_1 = 10.5\n",
    "float_1"
   ]
  },
  {
   "cell_type": "code",
   "execution_count": 34,
   "id": "eaa934bf",
   "metadata": {},
   "outputs": [
    {
     "name": "stdout",
     "output_type": "stream",
     "text": [
      "150.0\n",
      "1500.0\n"
     ]
    }
   ],
   "source": [
    "float_2 = 1.5e2  # 1.5 * 10^2\n",
    "float_3 = 1.5e3  # 1.5 * 10^3\n",
    "print(float_2)\n",
    "print(float_3)"
   ]
  },
  {
   "cell_type": "code",
   "execution_count": 35,
   "id": "d03b2be8",
   "metadata": {},
   "outputs": [
    {
     "name": "stdout",
     "output_type": "stream",
     "text": [
      "0.0015\n"
     ]
    }
   ],
   "source": [
    "float_4 = 1.5e-3  # 1.5 * 10^-3\n",
    "print(float_4)"
   ]
  },
  {
   "cell_type": "markdown",
   "id": "b0484f39",
   "metadata": {},
   "source": [
    "### Complex Literals"
   ]
  },
  {
   "cell_type": "code",
   "execution_count": 37,
   "id": "dd8a8497",
   "metadata": {},
   "outputs": [
    {
     "data": {
      "text/plain": [
       "3.14j"
      ]
     },
     "execution_count": 37,
     "metadata": {},
     "output_type": "execute_result"
    }
   ],
   "source": [
    "x = 3.14j\n",
    "x"
   ]
  },
  {
   "cell_type": "code",
   "execution_count": 38,
   "id": "65f14d0a",
   "metadata": {},
   "outputs": [
    {
     "name": "stdout",
     "output_type": "stream",
     "text": [
      "0.0\n",
      "3.14\n"
     ]
    }
   ],
   "source": [
    "print(x.real)\n",
    "print(x.imag)"
   ]
  },
  {
   "cell_type": "markdown",
   "id": "a40597bd",
   "metadata": {},
   "source": [
    "## -------------------------------------"
   ]
  },
  {
   "cell_type": "code",
   "execution_count": 39,
   "id": "69b99342",
   "metadata": {},
   "outputs": [
    {
     "name": "stdout",
     "output_type": "stream",
     "text": [
      "This is Python\n",
      "This is Python\n",
      "C\n",
      "This is a multiline string with more than one line code.\n",
      "😀😆🤣\n",
      "raw \\n string\n"
     ]
    }
   ],
   "source": [
    "string = 'This is Python'\n",
    "strings = \"This is Python\"\n",
    "char = \"C\"\n",
    "multiline_str = \"\"\"This is a multiline string with more than one line code.\"\"\"\n",
    "unicode = u\"\\U0001f600\\U0001F606\\U0001F923\"\n",
    "raw_str = r\"raw \\n string\"\n",
    "\n",
    "print(string)\n",
    "print(strings)\n",
    "print(char)\n",
    "print(multiline_str)\n",
    "print(unicode)\n",
    "print(raw_str)"
   ]
  },
  {
   "cell_type": "code",
   "execution_count": 40,
   "id": "fcb92236",
   "metadata": {},
   "outputs": [
    {
     "name": "stdout",
     "output_type": "stream",
     "text": [
      "a: 5\n",
      "b: 10\n"
     ]
    }
   ],
   "source": [
    "a = True + 4\n",
    "b = False + 10\n",
    "\n",
    "print(\"a:\", a)\n",
    "print(\"b:\", b)"
   ]
  },
  {
   "cell_type": "code",
   "execution_count": 41,
   "id": "2b3d7bf4",
   "metadata": {},
   "outputs": [
    {
     "name": "stdout",
     "output_type": "stream",
     "text": [
      "Program exe\n"
     ]
    }
   ],
   "source": [
    "k = None\n",
    "a = 5\n",
    "b = 6\n",
    "print('Program exe')"
   ]
  },
  {
   "cell_type": "markdown",
   "id": "936da590",
   "metadata": {},
   "source": [
    "# Task 1\n",
    "## Print the given strings as per stated format.\n",
    "### Given strings:\n",
    "\n",
    "#### \"Python\" \"Programming\" \"Language\"\n",
    "#### \"By\" \"Yash\"\n",
    "### Output:\n",
    "\n",
    "#### Python-Programming-Language-started-By-Yash"
   ]
  },
  {
   "cell_type": "code",
   "execution_count": 22,
   "id": "d73c78d1",
   "metadata": {},
   "outputs": [
    {
     "name": "stdout",
     "output_type": "stream",
     "text": [
      "Python-Programming-Language-started-By-Yash\n"
     ]
    }
   ],
   "source": [
    "print(\"Python\",\"Programming\",\"Language\",sep='-',end='-started-')\n",
    "print(\"By\",\"Yash\",sep='-')"
   ]
  },
  {
   "cell_type": "markdown",
   "id": "45567833",
   "metadata": {},
   "source": [
    "# Task 2\n",
    "## Write a program that will convert celsius value to fahrenheit."
   ]
  },
  {
   "cell_type": "code",
   "execution_count": 7,
   "id": "1787430f",
   "metadata": {},
   "outputs": [
    {
     "name": "stdout",
     "output_type": "stream",
     "text": [
      "Enter the temp in celsius = 32\n",
      "fahrenheit : 89.6\n"
     ]
    }
   ],
   "source": [
    "celsius = float(input('Enter the temp in celsius = '))\n",
    "fahrenheit = (celsius * 9/5) + 32\n",
    "print('fahrenheit :',fahrenheit)"
   ]
  },
  {
   "cell_type": "markdown",
   "id": "1a8658a8",
   "metadata": {},
   "source": [
    "# Task 3\n",
    "## Take 2 numbers as input from the user.Write a program to swap the numbers without using any special python syntax."
   ]
  },
  {
   "cell_type": "code",
   "execution_count": 8,
   "id": "8dd487f7",
   "metadata": {},
   "outputs": [
    {
     "name": "stdout",
     "output_type": "stream",
     "text": [
      "Enter a = 3\n",
      "Enter b = 5\n",
      "a : 5\n",
      "b : 3\n"
     ]
    }
   ],
   "source": [
    "a = int(input('Enter a = '))\n",
    "b = int(input('Enter b = '))\n",
    "\n",
    "temp = a\n",
    "a = b\n",
    "b = temp\n",
    "\n",
    "print('a :',a)\n",
    "print('b :',b)"
   ]
  },
  {
   "cell_type": "markdown",
   "id": "441aaa04",
   "metadata": {},
   "source": [
    "# Task 4\n",
    "## Write a program to find the euclidean distance between two coordinates.Take both the coordinates from the user as input."
   ]
  },
  {
   "cell_type": "code",
   "execution_count": 9,
   "id": "014ffeb6",
   "metadata": {},
   "outputs": [
    {
     "name": "stdout",
     "output_type": "stream",
     "text": [
      "Enter x cord of 1st point = 3\n",
      "Enter y cord of 1st point = 4\n",
      "Enter x cord of 2nd point = 7\n",
      "Enter y cord of 2nd point = 5\n",
      "distance : 4.12\n"
     ]
    }
   ],
   "source": [
    "x1 = int(input('Enter x cord of 1st point = '))\n",
    "y1 = int(input('Enter y cord of 1st point = '))\n",
    "x2 = int(input('Enter x cord of 2nd point = '))\n",
    "y2 = int(input('Enter y cord of 2nd point = '))\n",
    "\n",
    "distance = ((x2 - x1)**2 + (y2 - y1)**2)**0.5\n",
    "\n",
    "print('distance :',round(distance,2))"
   ]
  },
  {
   "cell_type": "markdown",
   "id": "7da780f5",
   "metadata": {},
   "source": [
    "# Task 5\n",
    "## Write a program to find the simple interest when the value of principle,rate of interest and time period is provided by the user."
   ]
  },
  {
   "cell_type": "code",
   "execution_count": 3,
   "id": "c5d3ce7b",
   "metadata": {},
   "outputs": [
    {
     "name": "stdout",
     "output_type": "stream",
     "text": [
      "Enter amount = 10000\n",
      "Enter rate = 10\n",
      "Enter time period = 2\n",
      "The Interest is : 2000.0\n"
     ]
    }
   ],
   "source": [
    "p = int(input('Enter amount = '))\n",
    "r = float(input('Enter rate = '))\n",
    "t = int(input('Enter time period = '))\n",
    "\n",
    "si = (p*r*t)/100\n",
    "\n",
    "print('The Interest is :',si)"
   ]
  },
  {
   "cell_type": "markdown",
   "id": "26e8e03d",
   "metadata": {},
   "source": [
    "# Task 6\n",
    "## Write a program to find the sum of squares of first n natural numbers where n will be provided by the user."
   ]
  },
  {
   "cell_type": "code",
   "execution_count": 12,
   "id": "95a73245",
   "metadata": {},
   "outputs": [
    {
     "name": "stdout",
     "output_type": "stream",
     "text": [
      "Enter n natural number = 5\n",
      "Sum of the sq. of natural numbers : 55.0\n"
     ]
    }
   ],
   "source": [
    "n = int(input('Enter n natural number = '))\n",
    "\n",
    "result = (n*(n+1)*(2*n+1))/6\n",
    "print('Sum of the sq. of natural numbers :',result)"
   ]
  },
  {
   "cell_type": "markdown",
   "id": "c65aa986",
   "metadata": {},
   "source": [
    "# Task 7\n",
    "## Given the first 2 terms of an Arithmetic Series.Find the Nth term of the series. Assume all inputs are provided by the user."
   ]
  },
  {
   "cell_type": "code",
   "execution_count": 14,
   "id": "29437d2b",
   "metadata": {},
   "outputs": [
    {
     "name": "stdout",
     "output_type": "stream",
     "text": [
      "Enter 1st term = 3\n",
      "Enter 2nd term = 5\n",
      "Enter n = 6\n",
      "nth_tem : 13\n"
     ]
    }
   ],
   "source": [
    "# a + (n-1)d\n",
    "\n",
    "first_term = int(input('Enter 1st term = '))\n",
    "second_term = int(input('Enter 2nd term = '))\n",
    "n = int(input('Enter n = '))\n",
    "\n",
    "d = second_term - first_term\n",
    "\n",
    "nth_term = first_term + (n-1)*d\n",
    "print('nth_tem :',nth_term)"
   ]
  },
  {
   "cell_type": "markdown",
   "id": "3dd76f92",
   "metadata": {},
   "source": [
    "# Task 8\n",
    "## Given 2 fractions, find the sum of those 2 fractions.Take the numerator and denominator values of the fractions from the user."
   ]
  },
  {
   "cell_type": "code",
   "execution_count": 20,
   "id": "6cc8d328",
   "metadata": {
    "scrolled": true
   },
   "outputs": [
    {
     "name": "stdout",
     "output_type": "stream",
     "text": [
      "num1 = 3\n",
      "deno1 = 7\n",
      "num2 = 2\n",
      "deno2 = 11\n",
      "47/77\n"
     ]
    }
   ],
   "source": [
    "n1 = int(input('num1 = '))\n",
    "d1 = int(input('deno1 = '))\n",
    "n2 = int(input('num2 = '))\n",
    "d2 = int(input('deno2 = '))\n",
    "\n",
    "result_num = n1*d2 + n2*d1\n",
    "result_deno = d1*d2\n",
    "\n",
    "print('{}/{}'.format(result_num,result_deno))"
   ]
  },
  {
   "cell_type": "markdown",
   "id": "3d549592",
   "metadata": {},
   "source": [
    "# Task 9\n",
    "## Given the height, width and breadth of a milk tank, you have to find out how many glasses of milk can be obtained? Assume all the inputs are provided by the user."
   ]
  },
  {
   "cell_type": "code",
   "execution_count": 21,
   "id": "cea9b9cf",
   "metadata": {},
   "outputs": [
    {
     "name": "stdout",
     "output_type": "stream",
     "text": [
      "height of tank = 10\n",
      "breadth of tank = 19\n",
      "length of tank = 10\n",
      "height of glass = 5\n",
      "radius of glass = 2\n",
      "no of glasses : 30\n"
     ]
    }
   ],
   "source": [
    "# Volume of Cuboid = l*b*h\n",
    "# Volume of Cylinder = 3.14*r^2*h\n",
    "\n",
    "import math\n",
    "\n",
    "h_t = float(input('height of tank = '))\n",
    "b_t = float(input('breadth of tank = '))\n",
    "l_t = float(input('length of tank = '))\n",
    "\n",
    "h_g = float(input('height of glass = '))\n",
    "r_g = float(input('radius of glass = '))\n",
    "\n",
    "vol_tank = h_t*b_t*l_t\n",
    "vol_glass = 3.14*r_g**2*h_g\n",
    "\n",
    "print('no of glasses :',math.floor(vol_tank/vol_glass))"
   ]
  },
  {
   "cell_type": "code",
   "execution_count": null,
   "id": "558160f9",
   "metadata": {},
   "outputs": [],
   "source": []
  }
 ],
 "metadata": {
  "celltoolbar": "Raw Cell Format",
  "kernelspec": {
   "display_name": "Python 3 (ipykernel)",
   "language": "python",
   "name": "python3"
  },
  "language_info": {
   "codemirror_mode": {
    "name": "ipython",
    "version": 3
   },
   "file_extension": ".py",
   "mimetype": "text/x-python",
   "name": "python",
   "nbconvert_exporter": "python",
   "pygments_lexer": "ipython3",
   "version": "3.10.9"
  }
 },
 "nbformat": 4,
 "nbformat_minor": 5
}
